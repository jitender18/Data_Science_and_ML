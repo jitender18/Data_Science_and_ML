{
 "cells": [
  {
   "cell_type": "markdown",
   "metadata": {},
   "source": [
    "# ISLR-Python: Applied 9"
   ]
  },
  {
   "cell_type": "markdown",
   "metadata": {},
   "source": [
    "- [Load College Dataset](#Load-College-Dataset)\n",
    "- [A. Split Data into Train and Test Sets](#A.-Split-Data-into-Train-and-Test-Sets)\n",
    "- [B. Fit Least Squares Model](#B.-Fit-Least-Squares-Model)\n",
    "- [C. Fit Ridge Regression Model](#C.-Fit-Ridge-Regression-Model)\n",
    "- [D. Fit Lasso Model](#D.-Fit-Lasso-Model)\n",
    "- [E. Fit a PCR Model](#E.-Fit a PCR Model)\n",
    "- [F. Fit a PLS Model](#F.-Fit a PLS Model)\n",
    "- [G. Comment on Models](#G.-Comment-on-Models)"
   ]
  },
  {
   "cell_type": "code",
   "execution_count": 1,
   "metadata": {},
   "outputs": [
    {
     "name": "stderr",
     "output_type": "stream",
     "text": [
      "/Users/jitu/anaconda3/lib/python3.6/site-packages/sklearn/cross_validation.py:41: DeprecationWarning: This module was deprecated in version 0.18 in favor of the model_selection module into which all the refactored classes and functions are moved. Also note that the interface of the new CV iterators are different from that of this module. This module will be removed in 0.20.\n",
      "  \"This module will be removed in 0.20.\", DeprecationWarning)\n"
     ]
    }
   ],
   "source": [
    "import numpy as np\n",
    "import pandas as pd\n",
    "import statsmodels.api as sm\n",
    "\n",
    "from operator import itemgetter\n",
    "\n",
    "from sklearn.preprocessing import StandardScaler\n",
    "from sklearn.pipeline import Pipeline\n",
    "from sklearn.cross_validation import cross_val_score\n",
    "from sklearn.linear_model import LinearRegression\n",
    "from sklearn.linear_model import RidgeCV\n",
    "from sklearn.linear_model import LassoCV\n",
    "from sklearn.decomposition import PCA\n",
    "from sklearn.cross_decomposition import PLSRegression\n",
    "\n",
    "from matplotlib import pyplot as plt\n",
    "\n",
    "%matplotlib inline\n",
    "plt.style.use('ggplot') # emulate R's pretty plotting\n",
    "\n",
    "# print numpy arrays with precision 4\n",
    "np.set_printoptions(precision=4)"
   ]
  },
  {
   "cell_type": "markdown",
   "metadata": {},
   "source": [
    "## Load College Dataset"
   ]
  },
  {
   "cell_type": "code",
   "execution_count": 2,
   "metadata": {},
   "outputs": [],
   "source": [
    "# Load the college data set\n",
    "df = pd.read_csv('../data/College.csv', index_col=0)"
   ]
  },
  {
   "cell_type": "code",
   "execution_count": 3,
   "metadata": {},
   "outputs": [
    {
     "name": "stdout",
     "output_type": "stream",
     "text": [
      "False\n"
     ]
    },
    {
     "data": {
      "text/html": [
       "<div>\n",
       "<style scoped>\n",
       "    .dataframe tbody tr th:only-of-type {\n",
       "        vertical-align: middle;\n",
       "    }\n",
       "\n",
       "    .dataframe tbody tr th {\n",
       "        vertical-align: top;\n",
       "    }\n",
       "\n",
       "    .dataframe thead th {\n",
       "        text-align: right;\n",
       "    }\n",
       "</style>\n",
       "<table border=\"1\" class=\"dataframe\">\n",
       "  <thead>\n",
       "    <tr style=\"text-align: right;\">\n",
       "      <th></th>\n",
       "      <th>Private</th>\n",
       "      <th>Apps</th>\n",
       "      <th>Accept</th>\n",
       "      <th>Enroll</th>\n",
       "      <th>Top10perc</th>\n",
       "      <th>Top25perc</th>\n",
       "      <th>F.Undergrad</th>\n",
       "      <th>P.Undergrad</th>\n",
       "      <th>Outstate</th>\n",
       "      <th>Room.Board</th>\n",
       "      <th>Books</th>\n",
       "      <th>Personal</th>\n",
       "      <th>PhD</th>\n",
       "      <th>Terminal</th>\n",
       "      <th>S.F.Ratio</th>\n",
       "      <th>perc.alumni</th>\n",
       "      <th>Expend</th>\n",
       "      <th>Grad.Rate</th>\n",
       "    </tr>\n",
       "  </thead>\n",
       "  <tbody>\n",
       "    <tr>\n",
       "      <th>Abilene Christian University</th>\n",
       "      <td>Yes</td>\n",
       "      <td>1660</td>\n",
       "      <td>1232</td>\n",
       "      <td>721</td>\n",
       "      <td>23</td>\n",
       "      <td>52</td>\n",
       "      <td>2885</td>\n",
       "      <td>537</td>\n",
       "      <td>7440</td>\n",
       "      <td>3300</td>\n",
       "      <td>450</td>\n",
       "      <td>2200</td>\n",
       "      <td>70</td>\n",
       "      <td>78</td>\n",
       "      <td>18.1</td>\n",
       "      <td>12</td>\n",
       "      <td>7041</td>\n",
       "      <td>60</td>\n",
       "    </tr>\n",
       "    <tr>\n",
       "      <th>Adelphi University</th>\n",
       "      <td>Yes</td>\n",
       "      <td>2186</td>\n",
       "      <td>1924</td>\n",
       "      <td>512</td>\n",
       "      <td>16</td>\n",
       "      <td>29</td>\n",
       "      <td>2683</td>\n",
       "      <td>1227</td>\n",
       "      <td>12280</td>\n",
       "      <td>6450</td>\n",
       "      <td>750</td>\n",
       "      <td>1500</td>\n",
       "      <td>29</td>\n",
       "      <td>30</td>\n",
       "      <td>12.2</td>\n",
       "      <td>16</td>\n",
       "      <td>10527</td>\n",
       "      <td>56</td>\n",
       "    </tr>\n",
       "    <tr>\n",
       "      <th>Adrian College</th>\n",
       "      <td>Yes</td>\n",
       "      <td>1428</td>\n",
       "      <td>1097</td>\n",
       "      <td>336</td>\n",
       "      <td>22</td>\n",
       "      <td>50</td>\n",
       "      <td>1036</td>\n",
       "      <td>99</td>\n",
       "      <td>11250</td>\n",
       "      <td>3750</td>\n",
       "      <td>400</td>\n",
       "      <td>1165</td>\n",
       "      <td>53</td>\n",
       "      <td>66</td>\n",
       "      <td>12.9</td>\n",
       "      <td>30</td>\n",
       "      <td>8735</td>\n",
       "      <td>54</td>\n",
       "    </tr>\n",
       "    <tr>\n",
       "      <th>Agnes Scott College</th>\n",
       "      <td>Yes</td>\n",
       "      <td>417</td>\n",
       "      <td>349</td>\n",
       "      <td>137</td>\n",
       "      <td>60</td>\n",
       "      <td>89</td>\n",
       "      <td>510</td>\n",
       "      <td>63</td>\n",
       "      <td>12960</td>\n",
       "      <td>5450</td>\n",
       "      <td>450</td>\n",
       "      <td>875</td>\n",
       "      <td>92</td>\n",
       "      <td>97</td>\n",
       "      <td>7.7</td>\n",
       "      <td>37</td>\n",
       "      <td>19016</td>\n",
       "      <td>59</td>\n",
       "    </tr>\n",
       "    <tr>\n",
       "      <th>Alaska Pacific University</th>\n",
       "      <td>Yes</td>\n",
       "      <td>193</td>\n",
       "      <td>146</td>\n",
       "      <td>55</td>\n",
       "      <td>16</td>\n",
       "      <td>44</td>\n",
       "      <td>249</td>\n",
       "      <td>869</td>\n",
       "      <td>7560</td>\n",
       "      <td>4120</td>\n",
       "      <td>800</td>\n",
       "      <td>1500</td>\n",
       "      <td>76</td>\n",
       "      <td>72</td>\n",
       "      <td>11.9</td>\n",
       "      <td>2</td>\n",
       "      <td>10922</td>\n",
       "      <td>15</td>\n",
       "    </tr>\n",
       "  </tbody>\n",
       "</table>\n",
       "</div>"
      ],
      "text/plain": [
       "                             Private  Apps  Accept  Enroll  Top10perc  \\\n",
       "Abilene Christian University     Yes  1660    1232     721         23   \n",
       "Adelphi University               Yes  2186    1924     512         16   \n",
       "Adrian College                   Yes  1428    1097     336         22   \n",
       "Agnes Scott College              Yes   417     349     137         60   \n",
       "Alaska Pacific University        Yes   193     146      55         16   \n",
       "\n",
       "                              Top25perc  F.Undergrad  P.Undergrad  Outstate  \\\n",
       "Abilene Christian University         52         2885          537      7440   \n",
       "Adelphi University                   29         2683         1227     12280   \n",
       "Adrian College                       50         1036           99     11250   \n",
       "Agnes Scott College                  89          510           63     12960   \n",
       "Alaska Pacific University            44          249          869      7560   \n",
       "\n",
       "                              Room.Board  Books  Personal  PhD  Terminal  \\\n",
       "Abilene Christian University        3300    450      2200   70        78   \n",
       "Adelphi University                  6450    750      1500   29        30   \n",
       "Adrian College                      3750    400      1165   53        66   \n",
       "Agnes Scott College                 5450    450       875   92        97   \n",
       "Alaska Pacific University           4120    800      1500   76        72   \n",
       "\n",
       "                              S.F.Ratio  perc.alumni  Expend  Grad.Rate  \n",
       "Abilene Christian University       18.1           12    7041         60  \n",
       "Adelphi University                 12.2           16   10527         56  \n",
       "Adrian College                     12.9           30    8735         54  \n",
       "Agnes Scott College                 7.7           37   19016         59  \n",
       "Alaska Pacific University          11.9            2   10922         15  "
      ]
     },
     "execution_count": 3,
     "metadata": {},
     "output_type": "execute_result"
    }
   ],
   "source": [
    "# confirm non NaNs and print head()\n",
    "print(df.isnull().any().any())\n",
    "df.head()"
   ]
  },
  {
   "cell_type": "code",
   "execution_count": 4,
   "metadata": {},
   "outputs": [],
   "source": [
    "# we have one column which is categorical 'Private' so convert \n",
    "dummy = pd.get_dummies(df.Private, prefix='Private')"
   ]
  },
  {
   "cell_type": "code",
   "execution_count": 5,
   "metadata": {
    "collapsed": true
   },
   "outputs": [],
   "source": [
    "# Only need the yes\n",
    "df.Private = dummy.Private_Yes"
   ]
  },
  {
   "cell_type": "code",
   "execution_count": 6,
   "metadata": {},
   "outputs": [
    {
     "data": {
      "text/html": [
       "<div>\n",
       "<table border=\"1\" class=\"dataframe\">\n",
       "  <thead>\n",
       "    <tr style=\"text-align: right;\">\n",
       "      <th></th>\n",
       "      <th>Private</th>\n",
       "      <th>Apps</th>\n",
       "      <th>Accept</th>\n",
       "      <th>Enroll</th>\n",
       "      <th>Top10perc</th>\n",
       "      <th>Top25perc</th>\n",
       "      <th>F.Undergrad</th>\n",
       "      <th>P.Undergrad</th>\n",
       "      <th>Outstate</th>\n",
       "      <th>Room.Board</th>\n",
       "      <th>Books</th>\n",
       "      <th>Personal</th>\n",
       "      <th>PhD</th>\n",
       "      <th>Terminal</th>\n",
       "      <th>S.F.Ratio</th>\n",
       "      <th>perc.alumni</th>\n",
       "      <th>Expend</th>\n",
       "      <th>Grad.Rate</th>\n",
       "    </tr>\n",
       "  </thead>\n",
       "  <tbody>\n",
       "    <tr>\n",
       "      <th>Abilene Christian University</th>\n",
       "      <td>1</td>\n",
       "      <td>1660</td>\n",
       "      <td>1232</td>\n",
       "      <td>721</td>\n",
       "      <td>23</td>\n",
       "      <td>52</td>\n",
       "      <td>2885</td>\n",
       "      <td>537</td>\n",
       "      <td>7440</td>\n",
       "      <td>3300</td>\n",
       "      <td>450</td>\n",
       "      <td>2200</td>\n",
       "      <td>70</td>\n",
       "      <td>78</td>\n",
       "      <td>18.1</td>\n",
       "      <td>12</td>\n",
       "      <td>7041</td>\n",
       "      <td>60</td>\n",
       "    </tr>\n",
       "    <tr>\n",
       "      <th>Adelphi University</th>\n",
       "      <td>1</td>\n",
       "      <td>2186</td>\n",
       "      <td>1924</td>\n",
       "      <td>512</td>\n",
       "      <td>16</td>\n",
       "      <td>29</td>\n",
       "      <td>2683</td>\n",
       "      <td>1227</td>\n",
       "      <td>12280</td>\n",
       "      <td>6450</td>\n",
       "      <td>750</td>\n",
       "      <td>1500</td>\n",
       "      <td>29</td>\n",
       "      <td>30</td>\n",
       "      <td>12.2</td>\n",
       "      <td>16</td>\n",
       "      <td>10527</td>\n",
       "      <td>56</td>\n",
       "    </tr>\n",
       "    <tr>\n",
       "      <th>Adrian College</th>\n",
       "      <td>1</td>\n",
       "      <td>1428</td>\n",
       "      <td>1097</td>\n",
       "      <td>336</td>\n",
       "      <td>22</td>\n",
       "      <td>50</td>\n",
       "      <td>1036</td>\n",
       "      <td>99</td>\n",
       "      <td>11250</td>\n",
       "      <td>3750</td>\n",
       "      <td>400</td>\n",
       "      <td>1165</td>\n",
       "      <td>53</td>\n",
       "      <td>66</td>\n",
       "      <td>12.9</td>\n",
       "      <td>30</td>\n",
       "      <td>8735</td>\n",
       "      <td>54</td>\n",
       "    </tr>\n",
       "  </tbody>\n",
       "</table>\n",
       "</div>"
      ],
      "text/plain": [
       "                              Private  Apps  Accept  Enroll  Top10perc  \\\n",
       "Abilene Christian University        1  1660    1232     721         23   \n",
       "Adelphi University                  1  2186    1924     512         16   \n",
       "Adrian College                      1  1428    1097     336         22   \n",
       "\n",
       "                              Top25perc  F.Undergrad  P.Undergrad  Outstate  \\\n",
       "Abilene Christian University         52         2885          537      7440   \n",
       "Adelphi University                   29         2683         1227     12280   \n",
       "Adrian College                       50         1036           99     11250   \n",
       "\n",
       "                              Room.Board  Books  Personal  PhD  Terminal  \\\n",
       "Abilene Christian University        3300    450      2200   70        78   \n",
       "Adelphi University                  6450    750      1500   29        30   \n",
       "Adrian College                      3750    400      1165   53        66   \n",
       "\n",
       "                              S.F.Ratio  perc.alumni  Expend  Grad.Rate  \n",
       "Abilene Christian University       18.1           12    7041         60  \n",
       "Adelphi University                 12.2           16   10527         56  \n",
       "Adrian College                     12.9           30    8735         54  "
      ]
     },
     "execution_count": 6,
     "metadata": {},
     "output_type": "execute_result"
    }
   ],
   "source": [
    "df.head(3)"
   ]
  },
  {
   "cell_type": "markdown",
   "metadata": {},
   "source": [
    "## Split Data into Train and Test Sets"
   ]
  },
  {
   "cell_type": "code",
   "execution_count": 46,
   "metadata": {},
   "outputs": [],
   "source": [
    "# set random seed for reproducible results\n",
    "np.random.seed(0)\n",
    "\n",
    "# construct randomly chosen train set roughly 50/50 split\n",
    "train = np.random.choice([True,False], size=len(df))\n",
    "df_train = df[train]\n",
    "df_test = df[~train]"
   ]
  },
  {
   "cell_type": "markdown",
   "metadata": {},
   "source": [
    "## Fit Least Squares Model"
   ]
  },
  {
   "cell_type": "code",
   "execution_count": 47,
   "metadata": {},
   "outputs": [
    {
     "name": "stdout",
     "output_type": "stream",
     "text": [
      "The Least Squares Test MSE =  1848054.14978\n"
     ]
    }
   ],
   "source": [
    "# Fit a least squares model to predict the number of recieved apps as function of all the other features\n",
    "y_train = df_train['Apps']\n",
    "features = list(df)\n",
    "features.remove('Apps')\n",
    "X_train = df_train[features]\n",
    "\n",
    "# Fit model, report params\n",
    "lm = sm.OLS(y_train,sm.add_constant(X_train)).fit()\n",
    "lm.params\n",
    "\n",
    "# compute MSE\n",
    "y_predicted = lm.predict(sm.add_constant(df_test[features]))\n",
    "\n",
    "LS_MSE = np.mean((df_test.Apps.values-y_predicted)**2)\n",
    "print(\"The Least Squares Test MSE = \", LS_MSE)"
   ]
  },
  {
   "cell_type": "markdown",
   "metadata": {},
   "source": [
    "## Fit Ridge Regression Model"
   ]
  },
  {
   "cell_type": "code",
   "execution_count": 9,
   "metadata": {},
   "outputs": [
    {
     "data": {
      "image/png": "[encoded data removed]",
      "text/plain": [
       "<matplotlib.figure.Figure at 0x7fafabececc0>"
      ]
     },
     "metadata": {},
     "output_type": "display_data"
    }
   ],
   "source": [
    "# For ridge regression we will fit ridge models for a range of alphas and select the model with the lowest\n",
    "# training error rate. Using this optimal alpha we will then predict number of applications and compare\n",
    "# with the test_set.\n",
    "\n",
    "# Fit ridge regression over a range of possible alphas\n",
    "alphas = np.logspace(-4, 0, 100)\n",
    "# Build estimator\n",
    "ridge_cv = RidgeCV(alphas = alphas, normalize=True, store_cv_values=True)\n",
    "# Fit model\n",
    "results = ridge_cv.fit(X_train.values, y_train.values)\n",
    "\n",
    "# the results contains a np array [num_samples,num_alphas] a form of LOOCV was performed so \n",
    "# the mean(axis=0) is the average MSE for a given alpha\n",
    "cvs = np.mean(results.cv_values_, axis=0)\n",
    "# get the minimum error rate and get the optimum alpha\n",
    "min_cvs = np.min(cvs)\n",
    "min_alpha = results.alpha_\n",
    "\n",
    "# Plot\n",
    "fig, ax = plt.subplots(figsize=(10,5))\n",
    "ax.plot(alphas,np.mean(results.cv_values_,axis=0), color='b')\n",
    "ax.plot(min_alpha, min_cvs, color='r', marker='o',)\n",
    "ax.set_xscale('log')\n",
    "ax.set_xlabel('alpha log-scale');\n",
    "ax.set_ylabel('Train Set MSE');"
   ]
  },
  {
   "cell_type": "code",
   "execution_count": 10,
   "metadata": {},
   "outputs": [
    {
     "name": "stdout",
     "output_type": "stream",
     "text": [
      "The Ridge Model Test MSE =  1953825.65345 \n",
      "\n",
      "Intercept     -1062.694072\n",
      "Private        -684.649474\n",
      "Accept            1.058455\n",
      "Enroll            0.334379\n",
      "Top10perc        38.852495\n",
      "Top25perc        -9.697783\n",
      "F.Undergrad       0.005961\n",
      "P.Undergrad       0.055038\n",
      "Outstate         -0.024309\n",
      "Room.Board        0.177457\n",
      "Books             0.281210\n",
      "Personal         -0.029562\n",
      "PhD              -4.390837\n",
      "Terminal         -4.765855\n",
      "S.F.Ratio        19.370603\n",
      "perc.alumni      -5.691326\n",
      "Expend            0.062184\n",
      "Grad.Rate        11.416957\n",
      "dtype: float64\n"
     ]
    }
   ],
   "source": [
    "# Get the ridge models predictions on the test set\n",
    "ridge_predicted = results.predict(df_test[features].values)\n",
    "\n",
    "# Get the MSE of the Ridges predictions\n",
    "Ridge_MSE = np.mean((df_test.Apps.values-ridge_predicted)**2)\n",
    "print(\"The Ridge Model Test MSE = \", Ridge_MSE, '\\n')\n",
    "\n",
    "print(pd.Series(data = np.hstack([results.intercept_,results.coef_]), index=['Intercept'] + features))"
   ]
  },
  {
   "cell_type": "markdown",
   "metadata": {},
   "source": [
    "## Fit Lasso Model"
   ]
  },
  {
   "cell_type": "code",
   "execution_count": 11,
   "metadata": {},
   "outputs": [
    {
     "data": {
      "image/png": "[encoded data removed]",
      "text/plain": [
       "<matplotlib.figure.Figure at 0x7fafdc519be0>"
      ]
     },
     "metadata": {},
     "output_type": "display_data"
    }
   ],
   "source": [
    "# Use LassoCV to perform 5-fold cross validation to determine optimal alpha\n",
    "lasso_cv = LassoCV(alphas = np.logspace(-4,0,100), normalize=True, cv=5, max_iter=100000)\n",
    "lasso_cv.fit(X_train.values, y_train.values)\n",
    "\n",
    "# The mse estimates are the mean aross folds (cols)\n",
    "mses = np.mean(lasso_cv.mse_path_, axis=1)\n",
    "\n",
    "# Plot CV error vs alpha\n",
    "fig, ax = plt.subplots(figsize=(10,5));\n",
    "ax.plot(lasso_cv.alphas_,mses, color='b');\n",
    "ax.plot(lasso_cv.alpha_, np.min(mses), marker='o', color='r', markersize=8);\n",
    "ax.set_xlabel('alpha log-scale');\n",
    "ax.set_xscale('log')\n",
    "ax.set_ylabel('5-Fold CV Train MSE');"
   ]
  },
  {
   "cell_type": "code",
   "execution_count": 12,
   "metadata": {},
   "outputs": [
    {
     "name": "stdout",
     "output_type": "stream",
     "text": [
      "The Lasso Model Test MSE =  1860777.35866 \n",
      "\n",
      "Alpha =  0.432876128108 \n",
      "\n",
      "Intercept     -1006.260175\n",
      "Private        -671.472978\n",
      "Accept            1.123507\n",
      "Enroll            0.195411\n",
      "Top10perc        35.843090\n",
      "Top25perc        -6.979835\n",
      "F.Undergrad       0.002698\n",
      "P.Undergrad       0.048355\n",
      "Outstate         -0.021418\n",
      "Room.Board        0.158239\n",
      "Books             0.223854\n",
      "Personal         -0.008984\n",
      "PhD              -3.480322\n",
      "Terminal         -4.468332\n",
      "S.F.Ratio        16.709474\n",
      "perc.alumni      -4.605209\n",
      "Expend            0.058739\n",
      "Grad.Rate         9.534166\n",
      "dtype: float64\n"
     ]
    }
   ],
   "source": [
    "# Get the lasso model predictions on the test set\n",
    "lasso_predicted = lasso_cv.predict(df_test[features].values)\n",
    "\n",
    "# Get the MSE of the lasso predictions\n",
    "Lasso_MSE = np.mean((df_test.Apps.values-lasso_predicted)**2)\n",
    "print(\"The Lasso Model Test MSE = \", Lasso_MSE,'\\n')\n",
    "print('Alpha = ', lasso_cv.alpha_,'\\n')\n",
    "print(pd.Series(data = np.hstack([lasso_cv.intercept_,lasso_cv.coef_]), index=['Intercept'] + features))"
   ]
  },
  {
   "cell_type": "markdown",
   "metadata": {},
   "source": [
    "## Fit a PCR Model"
   ]
  },
  {
   "cell_type": "code",
   "execution_count": 53,
   "metadata": {
    "scrolled": true
   },
   "outputs": [
    {
     "data": {
      "image/png": "[encoded data removed]",
      "text/plain": [
       "<matplotlib.figure.Figure at 0x7fafab8a3dd8>"
      ]
     },
     "metadata": {},
     "output_type": "display_data"
    }
   ],
   "source": [
    "# We will now fit a pcr model\n",
    "\n",
    "# list for holding the cv scores\n",
    "scores = []\n",
    "\n",
    "# We will vary the number of components from 1 component to a maximum of all features (equivalent to LS)\n",
    "num_components = np.arange(1,len(features)+1)\n",
    "num_samples = X_train.shape[0]\n",
    "\n",
    "for n in num_components:\n",
    "    # construct PCA obj with n_components\n",
    "    pca = PCA(n_components=n)\n",
    "    \n",
    "    # apply scaling, PCA, and Linear Regression in a pipeline\n",
    "    pipeline = Pipeline([('scaler', StandardScaler()), ('pca', pca), ('linear_regression', LinearRegression())])\n",
    "    \n",
    "    # Fit data and append cv score\n",
    "    pipeline.fit(X_train.values,y_train.values)\n",
    "    scores.append(-np.mean(cross_val_score(pipeline, X_train.values, y_train.values, \n",
    "                                           scoring='mean_squared_error', cv=5)))\n",
    "\n",
    "# get the min cv score\n",
    "min_index, min_score = min(enumerate(scores), key = itemgetter(1))\n",
    "    \n",
    "# Plot CV scores across number of PCs   \n",
    "fig, ax = plt.subplots(figsize=(8,4))\n",
    "# Plot the minimum cv score and the number of PCs that give that score\n",
    "ax.plot(num_components,scores, marker='o', color='b');\n",
    "ax.plot(min_index+1, min_score, marker='x', color='r', markersize = 15);\n",
    "ax.set_xlabel('Number of Components');\n",
    "ax.set_ylabel('5-Fold CV Training Score');\n",
    "ax.set_xlim(xmin=-1);"
   ]
  },
  {
   "cell_type": "markdown",
   "metadata": {},
   "source": [
    "So the minimum score is when all 17 features are used. If all features are used as the number of components, PCR is equivalent to least squares, so we will get the same Test MSE as least squares."
   ]
  },
  {
   "cell_type": "markdown",
   "metadata": {
    "collapsed": true
   },
   "source": [
    "## Fit a PLS Model"
   ]
  },
  {
   "cell_type": "code",
   "execution_count": 57,
   "metadata": {},
   "outputs": [
    {
     "data": {
      "image/png": "[encoded data removed]",
      "text/plain": [
       "<matplotlib.figure.Figure at 0x7fafabd11a58>"
      ]
     },
     "metadata": {},
     "output_type": "display_data"
    }
   ],
   "source": [
    "# list to hold cv scores\n",
    "pls_scores = []\n",
    "\n",
    "# Get number of components and num samples of training data\n",
    "num_components = list(np.arange(1,X_train.values.shape[1]+1))\n",
    "num_samples = X_train.values.shape[0]\n",
    "\n",
    "for n in num_components:\n",
    "    # construct PLS obj with n_components\n",
    "    pls = PLSRegression(n_components=n, scale=True)\n",
    "\n",
    "    pls_scores.append(-np.mean(cross_val_score(pls, X_train.values, y_train.values, \n",
    "                                           scoring='mean_squared_error', cv=5)))   \n",
    "# get the min cv score\n",
    "min_index, min_score = min(enumerate(pls_scores), key = itemgetter(1))\n",
    "\n",
    "# Plot CV scores across number of components \n",
    "fig, ax = plt.subplots(figsize=(8,4))\n",
    "\n",
    "# Plot the minimum cv score and the number of components that give that score\n",
    "ax.plot(num_components,pls_scores, marker='o', color='b');\n",
    "ax.plot(min_index+1, min_score, marker='x', color='r', markersize = 15);\n",
    "ax.set_xlabel('Number of Components');\n",
    "ax.set_ylabel('5-Fold CV Training Score');\n",
    "ax.set_xlim(xmin=-1);"
   ]
  },
  {
   "cell_type": "markdown",
   "metadata": {},
   "source": [
    "So PLS selects an 1 component model."
   ]
  },
  {
   "cell_type": "code",
   "execution_count": 52,
   "metadata": {},
   "outputs": [
    {
     "name": "stdout",
     "output_type": "stream",
     "text": [
      "20226275.9644\n"
     ]
    }
   ],
   "source": [
    "# get the PLS predictions for the 1 component model\n",
    "\n",
    "# Set the number of components to 1 and call predict method of PLS Regression in our pipeline\n",
    "pls = PLSRegression(n_components=1, scale=True)\n",
    "    \n",
    "# Fit data and append cv score\n",
    "pls.fit(X_train.values,y_train.values) \n",
    "\n",
    "y_predict=pls.predict(df_test[features].values)\n",
    "\n",
    "MSE = np.mean((df_test.Apps.values-y_predict)**2)\n",
    "print(MSE)"
   ]
  },
  {
   "cell_type": "markdown",
   "metadata": {},
   "source": [
    "## G. Comment on Models"
   ]
  },
  {
   "cell_type": "markdown",
   "metadata": {},
   "source": [
    "All of the models perform about the same with the exception of PLS which performs worse. Recall that what all these methods attempt to do is to regulate the variance of the model either by controlling the sizes of feature coeffecients or setting some to zero. The idea is that with many features, we have a higher risk of overfitting the data and the model's variance increases so that it performs poorly on test data. Why have these methods not helped on the college dataset? In chapter three the text explored potential problems that can occur in fitting linear models. The first problem was **non-linearity of the data**. We can see if that is occuring here by looking at a plot of the residuals. "
   ]
  },
  {
   "cell_type": "code",
   "execution_count": 62,
   "metadata": {},
   "outputs": [
    {
     "data": {
      "image/png": "[encoded data removed]",
      "text/plain": [
       "<matplotlib.figure.Figure at 0x7fafabb7db70>"
      ]
     },
     "metadata": {},
     "output_type": "display_data"
    }
   ],
   "source": [
    "# Plot residuals to inspect data for nonlinearity\n",
    "fig, ax = plt.subplots(figsize=(6,4))\n",
    "ax.scatter(lm.fittedvalues.values, lm.resid.values, facecolors='none', edgecolors='b');\n",
    "ax.set_xlabel('Fitted values');\n",
    "ax.set_ylabel('Residuals');"
   ]
  },
  {
   "cell_type": "markdown",
   "metadata": {},
   "source": [
    "From this graph it is clear there is a strong pattern in the residuals for fitted values below 5000. A negative slope for this cloud indicates that as the number of predicted apps increases we have larger residuals. This is a good indication of non-linearity in the college data set. We can also see large outliers. "
   ]
  }
 ],
 "metadata": {
  "kernelspec": {
   "display_name": "Python 3",
   "language": "python",
   "name": "python3"
  },
  "language_info": {
   "codemirror_mode": {
    "name": "ipython",
    "version": 3
   },
   "file_extension": ".py",
   "mimetype": "text/x-python",
   "name": "python",
   "nbconvert_exporter": "python",
   "pygments_lexer": "ipython3",
   "version": "3.6.5"
  }
 },
 "nbformat": 4,
 "nbformat_minor": 1
}
