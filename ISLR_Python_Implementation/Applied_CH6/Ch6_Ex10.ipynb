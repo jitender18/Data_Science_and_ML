{
 "cells": [
  {
   "cell_type": "markdown",
   "metadata": {},
   "source": [
    "# ISLR-Python: Applied 10"
   ]
  },
  {
   "cell_type": "markdown",
   "metadata": {},
   "source": [
    "- [A. Generate Simulated Data](#A.-Generate-Simulated-Data)\n",
    "- [B. Split Data into Train and Test Sets](#B.-Split-Data-into-Train-and-Test-Sets)\n",
    "- [C. Perform Best Subset Selection](#C.-Perform-Best-Subset-Selection)\n",
    "- [D. Plot Test MSE](#D.-Plot-Test-MSE)\n",
    "- [E. Comment on Results](#E.-Comment-on-Results)\n",
    "- [F. Compare Best Subset Model to True Model](#F.-Compare-Best-Subset-Model-to-True-Model)"
   ]
  },
  {
   "cell_type": "code",
   "execution_count": 22,
   "metadata": {
    "collapsed": true
   },
   "outputs": [],
   "source": [
    "import numpy as np\n",
    "import pandas as pd\n",
    "import statsmodels.api as sm\n",
    "\n",
    "from tqdm import tqdm\n",
    "from operator import itemgetter\n",
    "from itertools import combinations\n",
    "\n",
    "from sklearn.preprocessing import PolynomialFeatures\n",
    "\n",
    "from matplotlib import pyplot as plt\n",
    "\n",
    "%matplotlib inline\n",
    "plt.style.use('ggplot') # emulate R's pretty plotting\n",
    "\n",
    "# print numpy arrays with precision 4\n",
    "np.set_printoptions(precision=4)"
   ]
  },
  {
   "cell_type": "markdown",
   "metadata": {},
   "source": [
    "## A. Generate Simulated Data"
   ]
  },
  {
   "cell_type": "code",
   "execution_count": 140,
   "metadata": {
    "collapsed": false
   },
   "outputs": [
    {
     "data": {
      "text/html": [
       "<div>\n",
       "<table border=\"1\" class=\"dataframe\">\n",
       "  <thead>\n",
       "    <tr style=\"text-align: right;\">\n",
       "      <th></th>\n",
       "      <th>Y</th>\n",
       "      <th>X_1</th>\n",
       "      <th>X_2</th>\n",
       "      <th>X_3</th>\n",
       "      <th>X_4</th>\n",
       "      <th>X_5</th>\n",
       "      <th>X_6</th>\n",
       "      <th>X_7</th>\n",
       "      <th>X_8</th>\n",
       "      <th>X_9</th>\n",
       "      <th>X_10</th>\n",
       "      <th>X_11</th>\n",
       "      <th>X_12</th>\n",
       "    </tr>\n",
       "  </thead>\n",
       "  <tbody>\n",
       "    <tr>\n",
       "      <th>0</th>\n",
       "      <td>31.493544</td>\n",
       "      <td>1.764052</td>\n",
       "      <td>3.111881</td>\n",
       "      <td>5.489520</td>\n",
       "      <td>9.683801</td>\n",
       "      <td>17.082733</td>\n",
       "      <td>30.134834</td>\n",
       "      <td>53.159425</td>\n",
       "      <td>93.776009</td>\n",
       "      <td>165.425788</td>\n",
       "      <td>291.819750</td>\n",
       "      <td>514.785315</td>\n",
       "      <td>908.108242</td>\n",
       "    </tr>\n",
       "    <tr>\n",
       "      <th>1</th>\n",
       "      <td>6.638184</td>\n",
       "      <td>0.400157</td>\n",
       "      <td>0.160126</td>\n",
       "      <td>0.064075</td>\n",
       "      <td>0.025640</td>\n",
       "      <td>0.010260</td>\n",
       "      <td>0.004106</td>\n",
       "      <td>0.001643</td>\n",
       "      <td>0.000657</td>\n",
       "      <td>0.000263</td>\n",
       "      <td>0.000105</td>\n",
       "      <td>0.000042</td>\n",
       "      <td>0.000017</td>\n",
       "    </tr>\n",
       "    <tr>\n",
       "      <th>2</th>\n",
       "      <td>13.218934</td>\n",
       "      <td>0.978738</td>\n",
       "      <td>0.957928</td>\n",
       "      <td>0.937561</td>\n",
       "      <td>0.917626</td>\n",
       "      <td>0.898116</td>\n",
       "      <td>0.879020</td>\n",
       "      <td>0.860330</td>\n",
       "      <td>0.842038</td>\n",
       "      <td>0.824134</td>\n",
       "      <td>0.806612</td>\n",
       "      <td>0.789461</td>\n",
       "      <td>0.772676</td>\n",
       "    </tr>\n",
       "    <tr>\n",
       "      <th>3</th>\n",
       "      <td>46.349541</td>\n",
       "      <td>2.240893</td>\n",
       "      <td>5.021602</td>\n",
       "      <td>11.252875</td>\n",
       "      <td>25.216490</td>\n",
       "      <td>56.507461</td>\n",
       "      <td>126.627185</td>\n",
       "      <td>283.757997</td>\n",
       "      <td>635.871366</td>\n",
       "      <td>1424.919820</td>\n",
       "      <td>3193.093133</td>\n",
       "      <td>7155.380687</td>\n",
       "      <td>16034.443920</td>\n",
       "    </tr>\n",
       "    <tr>\n",
       "      <th>4</th>\n",
       "      <td>34.145454</td>\n",
       "      <td>1.867558</td>\n",
       "      <td>3.487773</td>\n",
       "      <td>6.513618</td>\n",
       "      <td>12.164559</td>\n",
       "      <td>22.718020</td>\n",
       "      <td>42.427220</td>\n",
       "      <td>79.235294</td>\n",
       "      <td>147.976506</td>\n",
       "      <td>276.354706</td>\n",
       "      <td>516.108440</td>\n",
       "      <td>963.862441</td>\n",
       "      <td>1800.069003</td>\n",
       "    </tr>\n",
       "  </tbody>\n",
       "</table>\n",
       "</div>"
      ],
      "text/plain": [
       "           Y       X_1       X_2        X_3        X_4        X_5         X_6  \\\n",
       "0  31.493544  1.764052  3.111881   5.489520   9.683801  17.082733   30.134834   \n",
       "1   6.638184  0.400157  0.160126   0.064075   0.025640   0.010260    0.004106   \n",
       "2  13.218934  0.978738  0.957928   0.937561   0.917626   0.898116    0.879020   \n",
       "3  46.349541  2.240893  5.021602  11.252875  25.216490  56.507461  126.627185   \n",
       "4  34.145454  1.867558  3.487773   6.513618  12.164559  22.718020   42.427220   \n",
       "\n",
       "          X_7         X_8          X_9         X_10         X_11          X_12  \n",
       "0   53.159425   93.776009   165.425788   291.819750   514.785315    908.108242  \n",
       "1    0.001643    0.000657     0.000263     0.000105     0.000042      0.000017  \n",
       "2    0.860330    0.842038     0.824134     0.806612     0.789461      0.772676  \n",
       "3  283.757997  635.871366  1424.919820  3193.093133  7155.380687  16034.443920  \n",
       "4   79.235294  147.976506   276.354706   516.108440   963.862441   1800.069003  "
      ]
     },
     "execution_count": 140,
     "metadata": {},
     "output_type": "execute_result"
    }
   ],
   "source": [
    "np.random.seed(0)\n",
    "\n",
    "# Create a normal random vector\n",
    "X = np.random.randn(1000,1)\n",
    "\n",
    "# create set of 12 coeffecients + 1 intercept. The interept and first three coeffecients will be non-zero\n",
    "# Note the book ask for 20 features but this takes a bit long to run. 12 works just fine to demonstrate the\n",
    "# same result the book is aiming for.\n",
    "betas=np.zeros((13,))\n",
    "np.put(betas,[0,1,2,3],[2, 4, 3, 1])\n",
    "\n",
    "# generate a noise term\n",
    "eps = np.random.randn(1000,1)\n",
    "\n",
    "# create response\n",
    "Y = betas[0]+betas[1]*X + betas[1]*X + betas[2]*X**2 + betas[3]*X**3 + eps\n",
    "\n",
    "# Create a design matrix\n",
    "poly = PolynomialFeatures(degree=12, include_bias=False)\n",
    "X_arr = poly.fit_transform(X)\n",
    "\n",
    "# create a dataframe of features and responses\n",
    "# make some names for the columns in our dataframe\n",
    "col_names = ['Y']+['X_' + str(i) for i in range(1,len(betas))]\n",
    "# make dataframe\n",
    "df = pd.DataFrame(np.concatenate((Y,X_arr), axis=1), columns=col_names)\n",
    "df.head()"
   ]
  },
  {
   "cell_type": "markdown",
   "metadata": {
    "collapsed": true
   },
   "source": [
    "## B. Split Data into Train and Test Sets"
   ]
  },
  {
   "cell_type": "code",
   "execution_count": 105,
   "metadata": {
    "collapsed": false
   },
   "outputs": [
    {
     "name": "stdout",
     "output_type": "stream",
     "text": [
      "Training Set Size: 100 \n",
      "Testing Set Size: 900\n"
     ]
    }
   ],
   "source": [
    "train_df = df.sample(n=100, random_state=0)\n",
    "test_df = df.drop(train_df.index)\n",
    "print('Training Set Size:', len(train_df), '\\nTesting Set Size:', len(test_df))"
   ]
  },
  {
   "cell_type": "markdown",
   "metadata": {},
   "source": [
    "## C. Perform Best Subset Selection"
   ]
  },
  {
   "cell_type": "markdown",
   "metadata": {},
   "source": [
    "On my to do list is to make a class that performs best subset, forward and backwards selection. It's not done yet, so fo now I'm copying the best subsets function I wrote in the lab."
   ]
  },
  {
   "cell_type": "code",
   "execution_count": 106,
   "metadata": {
    "collapsed": true
   },
   "outputs": [],
   "source": [
    "def best_subsets(dataframe, predictors, response, max_features=8):\n",
    "    \"\"\"\n",
    "    Regresses response onto subsets of the predictors in dataframe. Compares models with equal feature \n",
    "    numbers choosing the one with the lowest RSS as the 'best' model for that number of features.\n",
    "    \n",
    "    PARAMETERS\n",
    "    ----------\n",
    "    dataframe : pandas dataframe obj containing responses and predictors\n",
    "    predictors : list of column names of dataframe used as features\n",
    "    response : list of column name of dataframe used as target\n",
    "    \n",
    "    RETURNS\n",
    "    -------\n",
    "    a list of best models, one per feature number\n",
    "    \n",
    "    ex.\n",
    "    [best 1 feat model, best two feat model] = best_subsets(df, predictors, response, max_features = 2)\n",
    "    \"\"\"\n",
    "    \n",
    "    def process_linear_model(features):\n",
    "        \"\"\"\n",
    "        Constructs Linear Model Regression of response onto features.\n",
    "        \"\"\"\n",
    "        # Create design Matrix\n",
    "        X = sm.add_constant(dataframe[features])\n",
    "        y = dataframe[response]\n",
    "\n",
    "        model = sm.OLS(y,X).fit()\n",
    "        RSS = model.ssr\n",
    "        return (model, RSS)\n",
    "\n",
    "    def get_best_kth_model(k):\n",
    "        \"\"\"\n",
    "        Returns the model from all models with k-predictors with the lowest RSS.\n",
    "        \"\"\"\n",
    "        results = []\n",
    "\n",
    "        for combo in combinations(predictors, k):\n",
    "            # process linear model with this combo of features\n",
    "            results.append(process_linear_model(list(combo)))\n",
    "\n",
    "        # sort the models and return the one with the smallest RSS\n",
    "        return sorted(results, key= itemgetter(1)).pop(0)[0]\n",
    "    \n",
    "    models =[]\n",
    "    for k in tqdm(range(1,max_features+1)):\n",
    "        models.append(get_best_kth_model(k))\n",
    "    \n",
    "    return models"
   ]
  },
  {
   "cell_type": "code",
   "execution_count": 120,
   "metadata": {
    "collapsed": false
   },
   "outputs": [
    {
     "name": "stderr",
     "output_type": "stream",
     "text": [
      "100%|██████████| 12/12 [00:07<00:00,  1.56it/s]\n"
     ]
    }
   ],
   "source": [
    "features = list(train_df.columns[1:])\n",
    "models = best_subsets(train_df, features, ['Y'], max_features=12)"
   ]
  },
  {
   "cell_type": "code",
   "execution_count": 121,
   "metadata": {
    "collapsed": false
   },
   "outputs": [
    {
     "data": {
      "image/png": "[encoded data removed]",
      "text/plain": [
       "<matplotlib.figure.Figure at 0x7f3a8e33b208>"
      ]
     },
     "metadata": {},
     "output_type": "display_data"
    }
   ],
   "source": [
    "# now for each of the models we will Plot the training MSE\n",
    "mses = np.array([])\n",
    "for model in models:\n",
    "    # get the predictors for this model, ignore constant\n",
    "    features = list(model.params.index[1:])\n",
    "    \n",
    "    # get the corresponding columns of df_test\n",
    "    X_train = sm.add_constant(train_df[features])\n",
    "    \n",
    "    # make prediction for this model\n",
    "    y_predicted = model.predict(X_train)\n",
    "    \n",
    "    # get the MSE for this model\n",
    "    mses = np.append(mses, np.mean((y_predicted - train_df.Y.values)**2))\n",
    "\n",
    "    \n",
    "fig, ax = plt.subplots(figsize=(6,4));\n",
    "ax.plot(range(1,len(features)+1), mses, marker='o');\n",
    "ax.set_xlabel('Num Features');\n",
    "ax.set_ylabel('Training MSE');"
   ]
  },
  {
   "cell_type": "markdown",
   "metadata": {},
   "source": [
    "## D. Plot Test MSE"
   ]
  },
  {
   "cell_type": "code",
   "execution_count": 138,
   "metadata": {
    "collapsed": false
   },
   "outputs": [
    {
     "data": {
      "image/png": "[encoded data removed]",
      "text/plain": [
       "<matplotlib.figure.Figure at 0x7f3a8cc7e3c8>"
      ]
     },
     "metadata": {},
     "output_type": "display_data"
    }
   ],
   "source": [
    "mses = np.array([])\n",
    "for model in models:\n",
    "    # get the predictors for this model, ignore constant\n",
    "    features = list(model.params.index[1:])\n",
    "    \n",
    "    # get the corresponding columns of df_test\n",
    "    X_test = sm.add_constant(test_df[features])\n",
    "    \n",
    "    # make prediction for this model\n",
    "    y_predicted = model.predict(X_test)\n",
    "    \n",
    "    # get the MSE for this model\n",
    "    mses = np.append(mses, np.mean((y_predicted - test_df.Y.values)**2))\n",
    "\n",
    "    \n",
    "fig, ax = plt.subplots(figsize=(6,4));\n",
    "ax.plot(range(1,len(features)+1),mses, marker='o');\n",
    "ax.set_xlabel('Num Features');\n",
    "ax.set_ylabel('log(Test MSE)');\n",
    "ax.set_yscale('log')"
   ]
  },
  {
   "cell_type": "markdown",
   "metadata": {
    "collapsed": true
   },
   "source": [
    "## E. Comment on Results"
   ]
  },
  {
   "cell_type": "markdown",
   "metadata": {},
   "source": [
    "The best model occurs for three features. On this dataset the test error increases sharply as the number of features increases. With 20 features, the model has very high variance and since we use only 1/10 of the total samples for training we end up with a model that fits the test data very poorly. "
   ]
  },
  {
   "cell_type": "markdown",
   "metadata": {},
   "source": [
    "## F. Compare Best Subset Model to True Model"
   ]
  },
  {
   "cell_type": "code",
   "execution_count": 137,
   "metadata": {
    "collapsed": false
   },
   "outputs": [
    {
     "data": {
      "text/plain": [
       "const    1.956810\n",
       "X_1      8.139257\n",
       "X_2      2.970160\n",
       "X_3      0.963357\n",
       "dtype: float64"
      ]
     },
     "execution_count": 137,
     "metadata": {},
     "output_type": "execute_result"
    }
   ],
   "source": [
    "# The best three feature model has the following coeffecients\n",
    "models[2].params"
   ]
  },
  {
   "cell_type": "markdown",
   "metadata": {},
   "source": [
    "The values of the coeffecients are similar to the simulated values of [2,4,3,1] except for the X_1 feature."
   ]
  },
  {
   "cell_type": "code",
   "execution_count": 126,
   "metadata": {
    "collapsed": false
   },
   "outputs": [
    {
     "name": "stdout",
     "output_type": "stream",
     "text": [
      "12\n"
     ]
    }
   ],
   "source": [
    "coeff_norms =[]\n",
    "for idx, model in enumerate(models):\n",
    "    # get the models betas and pad them with zeros so they are always len(models)\n",
    "    model_betas = np.pad(model.params.values[1:],(0,len(models)-idx), 'constant', constant_values=[0])\n",
    "    # compute the l2 norm of the coeffecients-model(coeffecients)\n",
    "    coeff_norms.append(np.sqrt(np.sum((betas-model_betas)**2)))"
   ]
  },
  {
   "cell_type": "code",
   "execution_count": 139,
   "metadata": {
    "collapsed": false
   },
   "outputs": [
    {
     "data": {
      "image/png": "[encoded data removed]",
      "text/plain": [
       "<matplotlib.figure.Figure at 0x7f3a954500b8>"
      ]
     },
     "metadata": {},
     "output_type": "display_data"
    }
   ],
   "source": [
    "fig, ax = plt.subplots()\n",
    "ax.plot(coeff_norms,marker='o');\n",
    "ax.set_ylabel('L2 Norm Coeffecient Differences');\n",
    "ax.set_xlabel('Num Model Coeffecients');"
   ]
  },
  {
   "cell_type": "markdown",
   "metadata": {},
   "source": [
    "So the L2 norm of the coeffecient differences is a scaled version of the TEST MSE curve. As we increase the number of coeffecients, the L2 norm of the difference will increase. This again is reflecting that the varaince of the model increases with increasing parameters... Increasing variance increases the difference in the L2 norm difference of the true beta and the models betas."
   ]
  },
  {
   "cell_type": "code",
   "execution_count": null,
   "metadata": {
    "collapsed": true
   },
   "outputs": [],
   "source": []
  }
 ],
 "metadata": {
  "kernelspec": {
   "display_name": "Python 3",
   "language": "python",
   "name": "python3"
  },
  "language_info": {
   "codemirror_mode": {
    "name": "ipython",
    "version": 3
   },
   "file_extension": ".py",
   "mimetype": "text/x-python",
   "name": "python",
   "nbconvert_exporter": "python",
   "pygments_lexer": "ipython3",
   "version": "3.5.2"
  }
 },
 "nbformat": 4,
 "nbformat_minor": 0
}
