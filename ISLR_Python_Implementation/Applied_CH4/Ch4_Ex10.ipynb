{
 "cells": [
  {
   "cell_type": "markdown",
   "metadata": {},
   "source": [
    "# ISLR- Python Ch4 Applied 10"
   ]
  },
  {
   "cell_type": "markdown",
   "metadata": {},
   "source": [
    "- [Load Dataset](#Load-Datasets)\n",
    "- [A. Numerical and Graphical Summary of Data](#A.-Numerical-and-Graphical-Summary-of-Data)\n",
    "- [B. Logistic Regression of Market Direction](#B.-Logistic-Regression-of-Market-Direction)\n",
    "- [C. Examine Confusion Matrix](#C.-Examine-Confusion-Matrix)\n",
    "- [D. Split Data and Re-Examine](#D.-Split-Data-and-Re-Examine)\n",
    "- [E. Linear Discriminant Aanlysis of Market Direction](#E.-Linear-Discriminant-Analysis-of-Market-Direction)\n",
    "- [F. Quadratic Discriminant Analysis of Market Direction](#F.-Quadratic-Discriminant-Analysis-of-Market-Direction)\n",
    "- [G. K-Nearest Neighbors Analysis of Market Direction](#G.-K-Nearest-Neighbors-Analysis-of-Market-Direction)\n",
    "- [H-I. Experiment with Predictors](#H-I.-Experiment-with-Predictors)"
   ]
  },
  {
   "cell_type": "code",
   "execution_count": 1,
   "metadata": {},
   "outputs": [],
   "source": [
    "## perform imports and set-up\n",
    "import numpy as np\n",
    "import pandas as pd\n",
    "import statsmodels.api as sm\n",
    "import statsmodels.formula.api as smf\n",
    "\n",
    "from matplotlib import pyplot as plt\n",
    "from sklearn.discriminant_analysis import LinearDiscriminantAnalysis as LDA\n",
    "from sklearn.discriminant_analysis import QuadraticDiscriminantAnalysis as QDA\n",
    "from sklearn.neighbors import KNeighborsClassifier\n",
    "from sklearn.preprocessing import scale\n",
    "from scipy import stats\n",
    "\n",
    "%matplotlib inline\n",
    "plt.style.use('ggplot') # emulate pretty r-style plots\n",
    "\n",
    "# print numpy arrays with precision 4\n",
    "np.set_printoptions(precision=4)"
   ]
  },
  {
   "cell_type": "markdown",
   "metadata": {},
   "source": [
    "## Load Weekly Dataset"
   ]
  },
  {
   "cell_type": "code",
   "execution_count": 2,
   "metadata": {},
   "outputs": [
    {
     "name": "stdout",
     "output_type": "stream",
     "text": [
      "Weekly dataframe shape = (1089, 9)\n"
     ]
    },
    {
     "data": {
      "text/html": [
       "<div>\n",
       "<style scoped>\n",
       "    .dataframe tbody tr th:only-of-type {\n",
       "        vertical-align: middle;\n",
       "    }\n",
       "\n",
       "    .dataframe tbody tr th {\n",
       "        vertical-align: top;\n",
       "    }\n",
       "\n",
       "    .dataframe thead th {\n",
       "        text-align: right;\n",
       "    }\n",
       "</style>\n",
       "<table border=\"1\" class=\"dataframe\">\n",
       "  <thead>\n",
       "    <tr style=\"text-align: right;\">\n",
       "      <th></th>\n",
       "      <th>Year</th>\n",
       "      <th>Lag1</th>\n",
       "      <th>Lag2</th>\n",
       "      <th>Lag3</th>\n",
       "      <th>Lag4</th>\n",
       "      <th>Lag5</th>\n",
       "      <th>Volume</th>\n",
       "      <th>Today</th>\n",
       "      <th>Direction</th>\n",
       "    </tr>\n",
       "  </thead>\n",
       "  <tbody>\n",
       "    <tr>\n",
       "      <th>0</th>\n",
       "      <td>1990</td>\n",
       "      <td>0.816</td>\n",
       "      <td>1.572</td>\n",
       "      <td>-3.936</td>\n",
       "      <td>-0.229</td>\n",
       "      <td>-3.484</td>\n",
       "      <td>0.154976</td>\n",
       "      <td>-0.270</td>\n",
       "      <td>Down</td>\n",
       "    </tr>\n",
       "    <tr>\n",
       "      <th>1</th>\n",
       "      <td>1990</td>\n",
       "      <td>-0.270</td>\n",
       "      <td>0.816</td>\n",
       "      <td>1.572</td>\n",
       "      <td>-3.936</td>\n",
       "      <td>-0.229</td>\n",
       "      <td>0.148574</td>\n",
       "      <td>-2.576</td>\n",
       "      <td>Down</td>\n",
       "    </tr>\n",
       "    <tr>\n",
       "      <th>2</th>\n",
       "      <td>1990</td>\n",
       "      <td>-2.576</td>\n",
       "      <td>-0.270</td>\n",
       "      <td>0.816</td>\n",
       "      <td>1.572</td>\n",
       "      <td>-3.936</td>\n",
       "      <td>0.159837</td>\n",
       "      <td>3.514</td>\n",
       "      <td>Up</td>\n",
       "    </tr>\n",
       "    <tr>\n",
       "      <th>3</th>\n",
       "      <td>1990</td>\n",
       "      <td>3.514</td>\n",
       "      <td>-2.576</td>\n",
       "      <td>-0.270</td>\n",
       "      <td>0.816</td>\n",
       "      <td>1.572</td>\n",
       "      <td>0.161630</td>\n",
       "      <td>0.712</td>\n",
       "      <td>Up</td>\n",
       "    </tr>\n",
       "    <tr>\n",
       "      <th>4</th>\n",
       "      <td>1990</td>\n",
       "      <td>0.712</td>\n",
       "      <td>3.514</td>\n",
       "      <td>-2.576</td>\n",
       "      <td>-0.270</td>\n",
       "      <td>0.816</td>\n",
       "      <td>0.153728</td>\n",
       "      <td>1.178</td>\n",
       "      <td>Up</td>\n",
       "    </tr>\n",
       "  </tbody>\n",
       "</table>\n",
       "</div>"
      ],
      "text/plain": [
       "   Year   Lag1   Lag2   Lag3   Lag4   Lag5    Volume  Today Direction\n",
       "0  1990  0.816  1.572 -3.936 -0.229 -3.484  0.154976 -0.270      Down\n",
       "1  1990 -0.270  0.816  1.572 -3.936 -0.229  0.148574 -2.576      Down\n",
       "2  1990 -2.576 -0.270  0.816  1.572 -3.936  0.159837  3.514        Up\n",
       "3  1990  3.514 -2.576 -0.270  0.816  1.572  0.161630  0.712        Up\n",
       "4  1990  0.712  3.514 -2.576 -0.270  0.816  0.153728  1.178        Up"
      ]
     },
     "execution_count": 2,
     "metadata": {},
     "output_type": "execute_result"
    }
   ],
   "source": [
    "df = pd.read_csv('../data/Weekly.csv')\n",
    "print('Weekly dataframe shape =', df.shape)\n",
    "df.head()"
   ]
  },
  {
   "cell_type": "markdown",
   "metadata": {},
   "source": [
    "## A. Numerical and Graphical Summary of Data"
   ]
  },
  {
   "cell_type": "markdown",
   "metadata": {},
   "source": [
    "We are interested in the relationship between each of the predictors (lags and volume) with the market direction. We can get an idea if any of these predictors are correlated with the response by looking at the correlation matrix."
   ]
  },
  {
   "cell_type": "code",
   "execution_count": 3,
   "metadata": {},
   "outputs": [
    {
     "name": "stdout",
     "output_type": "stream",
     "text": [
      "            Year      Lag1      Lag2      Lag3      Lag4      Lag5    Volume  \\\n",
      "Year    1.000000 -0.032289 -0.033390 -0.030006 -0.031128 -0.030519  0.841942   \n",
      "Lag1   -0.032289  1.000000 -0.074853  0.058636 -0.071274 -0.008183 -0.064951   \n",
      "Lag2   -0.033390 -0.074853  1.000000 -0.075721  0.058382 -0.072499 -0.085513   \n",
      "Lag3   -0.030006  0.058636 -0.075721  1.000000 -0.075396  0.060657 -0.069288   \n",
      "Lag4   -0.031128 -0.071274  0.058382 -0.075396  1.000000 -0.075675 -0.061075   \n",
      "Lag5   -0.030519 -0.008183 -0.072499  0.060657 -0.075675  1.000000 -0.058517   \n",
      "Volume  0.841942 -0.064951 -0.085513 -0.069288 -0.061075 -0.058517  1.000000   \n",
      "Today  -0.032460 -0.075032  0.059167 -0.071244 -0.007826  0.011013 -0.033078   \n",
      "\n",
      "           Today  \n",
      "Year   -0.032460  \n",
      "Lag1   -0.075032  \n",
      "Lag2    0.059167  \n",
      "Lag3   -0.071244  \n",
      "Lag4   -0.007826  \n",
      "Lag5    0.011013  \n",
      "Volume -0.033078  \n",
      "Today   1.000000  \n"
     ]
    }
   ],
   "source": [
    "# Compute correlation coeffecient matrix\n",
    "correlations = df.corr(method='pearson')\n",
    "print(correlations)"
   ]
  },
  {
   "cell_type": "markdown",
   "metadata": {},
   "source": [
    "As with the Smarket data, the strongest correlation is between year and volume. The Today's return value is weakly correlated with lag1, lag2 and lag3. Lets make a few plots."
   ]
  },
  {
   "cell_type": "code",
   "execution_count": 4,
   "metadata": {},
   "outputs": [
    {
     "data": {
      "image/png": "[encoded data removed]",
      "text/plain": [
       "<matplotlib.figure.Figure at 0x7f1ae97a3390>"
      ]
     },
     "metadata": {},
     "output_type": "display_data"
    }
   ],
   "source": [
    "# Plot the Trading Volume vs. Year\n",
    "fig, (ax1,ax2,ax3) = plt.subplots(1,3,figsize=(18,4));\n",
    "\n",
    "ax1.scatter(df.Year.values,df.Volume.values, facecolors='none', edgecolors='b');\n",
    "ax1.set_xlabel('Year');\n",
    "ax1.set_ylabel('Volume in Billions');\n",
    "\n",
    "# Plot Lag1 vs Today's return\n",
    "ax2.scatter(df.Lag1.values, df.Today.values, facecolors='none', edgecolors='b' );\n",
    "ax2.set_xlabel('Lag1 Percent Return');\n",
    "ax2.set_ylabel('Today\\'s Percent Return');\n",
    "\n",
    "# Plot Lag1 vs Today's return\n",
    "ax3.scatter(df.Lag2.values, df.Today.values, facecolors='none', edgecolors='b' );\n",
    "ax3.set_xlabel('Lag2 Percent Return');\n",
    "ax3.set_ylabel('Today\\'s Percent Return');\n"
   ]
  },
  {
   "cell_type": "markdown",
   "metadata": {},
   "source": [
    "As expected given the correlation matrix, there is a strong relationship between year and trading volume (stock market volume increases over time) and a very weak relationship (not visible graphically) between Today's percentage return and the previous days returns (i.e. the lags). We should not expect our models to perform exceedingly well because the is little relationship between the predictors and response."
   ]
  },
  {
   "cell_type": "markdown",
   "metadata": {},
   "source": [
    "## B. Logistic Regression of Market Direction"
   ]
  },
  {
   "cell_type": "markdown",
   "metadata": {},
   "source": [
    "We will now build a logistic regression model for the market direction using the entire dataset using all the lags and volume to attempt to predict the direction response variable."
   ]
  },
  {
   "cell_type": "code",
   "execution_count": 5,
   "metadata": {},
   "outputs": [
    {
     "name": "stdout",
     "output_type": "stream",
     "text": [
      "Optimization terminated successfully.\n",
      "         Current function value: 0.682441\n",
      "         Iterations 4\n",
      "                           Logit Regression Results                           \n",
      "==============================================================================\n",
      "Dep. Variable:                      y   No. Observations:                 1089\n",
      "Model:                          Logit   Df Residuals:                     1082\n",
      "Method:                           MLE   Df Model:                            6\n",
      "Date:                Sat, 16 Jul 2016   Pseudo R-squ.:                0.006580\n",
      "Time:                        11:12:08   Log-Likelihood:                -743.18\n",
      "converged:                       True   LL-Null:                       -748.10\n",
      "                                        LLR p-value:                    0.1313\n",
      "==============================================================================\n",
      "                 coef    std err          z      P>|z|      [95.0% Conf. Int.]\n",
      "------------------------------------------------------------------------------\n",
      "const          0.2669      0.086      3.106      0.002         0.098     0.435\n",
      "Lag1          -0.0413      0.026     -1.563      0.118        -0.093     0.010\n",
      "Lag2           0.0584      0.027      2.175      0.030         0.006     0.111\n",
      "Lag3          -0.0161      0.027     -0.602      0.547        -0.068     0.036\n",
      "Lag4          -0.0278      0.026     -1.050      0.294        -0.080     0.024\n",
      "Lag5          -0.0145      0.026     -0.549      0.583        -0.066     0.037\n",
      "Volume        -0.0227      0.037     -0.616      0.538        -0.095     0.050\n",
      "==============================================================================\n"
     ]
    }
   ],
   "source": [
    "# Construct Design Matrix #\n",
    "###########################\n",
    "predictors = df.columns[1:7] # the lags and volume\n",
    "X = sm.add_constant(df[predictors])\n",
    "\n",
    "# Convert the Direction to Binary #\n",
    "###################################\n",
    "y = np.array([1 if el=='Up' else 0 for el in df.Direction.values])\n",
    "\n",
    "# Construct the logit model #\n",
    "###########################\n",
    "logit = sm.Logit(y,X)\n",
    "results=logit.fit()\n",
    "print(results.summary())"
   ]
  },
  {
   "cell_type": "markdown",
   "metadata": {},
   "source": [
    "Only the Lag2 variable of the predictors is significant at an alpha confidence level of 0.05. The predictors that have the lowest p-values are Lag1 and Lag2. A model based on these two variables would be reasonable to attempt."
   ]
  },
  {
   "cell_type": "code",
   "execution_count": 6,
   "metadata": {},
   "outputs": [
    {
     "name": "stdout",
     "output_type": "stream",
     "text": [
      "      Down   Up\n",
      "Down    54   48\n",
      "Up     430  557\n",
      "\n",
      "\n",
      "Error Rate = 0.438934802571\n"
     ]
    }
   ],
   "source": [
    "# Get the predicted results for the full dataset\n",
    "y_predicted = results.predict(X)\n",
    "#conver the predicted probabilities to a class\n",
    "y_predicted= np.array(y_predicted > 0.5, dtype=float)\n",
    "\n",
    "# Build Confusion Matrix #\n",
    "##########################\n",
    "table = np.histogram2d(y_predicted, y, bins=2)[0]\n",
    "print(pd.DataFrame(table, ['Down', 'Up'], ['Down', 'Up']))\n",
    "print('\\n')\n",
    "print('Error Rate =', 1-(table[0,0]+table[1,1])/np.sum(table))"
   ]
  },
  {
   "cell_type": "markdown",
   "metadata": {},
   "source": [
    "PRECISION: On days when the model predicts the market to increase, the probability the market does increase is 557/(430+557) of 56%. \n",
    "\n",
    "TYPE I ERROR: (AKA false-positive), the probability that we have predicted the market to increase and it does not increase is 430/(430+54) = 89%\n",
    "\n",
    "TYPE II ERROR: This is the number of false negatives to all positives. It is 48/(557+48)= 8%\n",
    "\n",
    "The sensitivity is therefore 92%. The model is very sensitive to catching all true positives, but this incurs a high false positive rate. This is the inverse relationship between Type I and Type II errors."
   ]
  },
  {
   "cell_type": "markdown",
   "metadata": {
    "collapsed": true
   },
   "source": [
    "## D. Split Data and Re-Examine"
   ]
  },
  {
   "cell_type": "markdown",
   "metadata": {},
   "source": [
    "We are now going to split the data into a training set and a testing set and refit a logistic model using Lag2 as the only predictor. The training data will be the data from the years 1990 through 2008 and the testing data will be from 2009 through 2010."
   ]
  },
  {
   "cell_type": "code",
   "execution_count": 7,
   "metadata": {},
   "outputs": [
    {
     "name": "stdout",
     "output_type": "stream",
     "text": [
      "Optimization terminated successfully.\n",
      "         Current function value: 0.685555\n",
      "         Iterations 4\n",
      "                           Logit Regression Results                           \n",
      "==============================================================================\n",
      "Dep. Variable:                      y   No. Observations:                  985\n",
      "Model:                          Logit   Df Residuals:                      983\n",
      "Method:                           MLE   Df Model:                            1\n",
      "Date:                Sat, 16 Jul 2016   Pseudo R-squ.:                0.003076\n",
      "Time:                        11:12:08   Log-Likelihood:                -675.27\n",
      "converged:                       True   LL-Null:                       -677.35\n",
      "                                        LLR p-value:                   0.04123\n",
      "==============================================================================\n",
      "                 coef    std err          z      P>|z|      [95.0% Conf. Int.]\n",
      "------------------------------------------------------------------------------\n",
      "const          0.2033      0.064      3.162      0.002         0.077     0.329\n",
      "Lag2           0.0581      0.029      2.024      0.043         0.002     0.114\n",
      "==============================================================================\n",
      "\n",
      "\n",
      "CONFUSION MATRIX\n",
      "      Down  Up\n",
      "Down     9   5\n",
      "Up      34  56\n",
      "\n",
      "\n",
      "Error Rate = 0.375\n"
     ]
    }
   ],
   "source": [
    "# Split Data #\n",
    "##############\n",
    "# get the Lag2 values for years less than =  2008\n",
    "X_train = sm.add_constant(df[df.Year <= 2008].Lag2)\n",
    "response_train = df[df.Year <= 2008].Direction\n",
    "# convert responses to 0,1's\n",
    "y_train = np.array([1 if el=='Up' else 0 for el in response_train])\n",
    "\n",
    "# for the test set use the years > 2008\n",
    "X_test = sm.add_constant(df[df.Year > 2008].Lag2)\n",
    "response_test = df[df.Year > 2008].Direction\n",
    "y_test = np.array([1 if el=='Up' else 0 for el in response_test])\n",
    "\n",
    "# Construct Classifier and Fit #\n",
    "################################\n",
    "logit = sm.Logit(y_train, X_train)\n",
    "results = logit.fit()\n",
    "print(results.summary())\n",
    "print('\\n')\n",
    "\n",
    "# Predict Test Set Responses #\n",
    "##############################\n",
    "y_predicted = results.predict(X_test)\n",
    "#conver the predicted probabilities to a class\n",
    "y_predicted= np.array(y_predicted > 0.5, dtype=float)\n",
    "\n",
    "# Build Confusion Matrix #\n",
    "##########################\n",
    "table = np.histogram2d(y_predicted, y_test, bins=2)[0]\n",
    "print('CONFUSION MATRIX')\n",
    "print(pd.DataFrame(table, ['Down', 'Up'], ['Down', 'Up']))\n",
    "print('\\n')\n",
    "print('Error Rate =', 1-(table[0,0]+table[1,1])/np.sum(table))"
   ]
  },
  {
   "cell_type": "markdown",
   "metadata": {},
   "source": [
    "The model correctly predicts (56+9)/104 = 62.5% of the market directions. We still have high number of Type I errors and low number of Type II errors as with the model with Lag1, Lag2 and volume as predictors. Notice that the p-value of the lag2 coeffecient increased without Lag1 and Volume present."
   ]
  },
  {
   "cell_type": "markdown",
   "metadata": {},
   "source": [
    "## E. Linear Discriminant Analysis of Market Direction"
   ]
  },
  {
   "cell_type": "markdown",
   "metadata": {},
   "source": [
    "We will now try to predict market direction by maiximing the Linear Discriminant function. The LDA module in sklearn will estimate the priors, the vector of class means, and the variance (remember the variance is assumed to be the same for all classes in LDA). Our classes are 'Up' and 'Down', the priors are P('Up') and P('Down') and the means are $\\mu_{Up}$ and $\\mu_{Down}$."
   ]
  },
  {
   "cell_type": "code",
   "execution_count": 8,
   "metadata": {},
   "outputs": [
    {
     "name": "stdout",
     "output_type": "stream",
     "text": [
      "Priors =  [ 0.4477  0.5523]\n",
      "Class Means =  [-0.0357] [ 0.2604]\n",
      "Coeffecients =  [[ 0.0578]]\n",
      "\n",
      "\n",
      "CONFUSION MATRIX\n",
      "      Down  Up\n",
      "Down     9   5\n",
      "Up      34  56\n",
      "\n",
      "\n",
      "Error Rate = 0.375\n"
     ]
    }
   ],
   "source": [
    "# Create LDA Classifier and Fit #\n",
    "#################################\n",
    "clf = LDA(solver='lsqr', store_covariance=True)\n",
    "# No constant needed for LDA so reset the X_train\n",
    "X_train = df[df.Year <= 2008].Lag2.values\n",
    "# reshape so indexed by two indices\n",
    "X_train = X_train.reshape((len(X_train),1))\n",
    "\n",
    "# also go ahead and get test set and responses\n",
    "X_test = df[df.Year > 2008].Lag2.values\n",
    "# reshape into so indexed by two indices\n",
    "X_test = X_test.reshape((len(X_test),1))\n",
    "\n",
    "clf.fit(X_train, y_train)\n",
    "print('Priors = ', clf.priors_ )\n",
    "print('Class Means = ', clf.means_[0], clf.means_[1])\n",
    "print('Coeffecients = ', clf.coef_)\n",
    "print('\\n')\n",
    "\n",
    "# Predict Test Set Responses #\n",
    "##############################\n",
    "y_predicted = clf.predict(X_test)\n",
    "#conver the predicted probabilities to class 0 or 1\n",
    "y_predicted= np.array(y_predicted > 0.5, dtype=float)\n",
    "\n",
    "# Build Confusion Matrix #\n",
    "##########################\n",
    "table = np.histogram2d(y_predicted, y_test, bins=2)[0]\n",
    "print('CONFUSION MATRIX')\n",
    "print(pd.DataFrame(table, ['Down', 'Up'], ['Down', 'Up']))\n",
    "print('\\n')\n",
    "print('Error Rate =', 1-(table[0,0]+table[1,1])/np.sum(table))"
   ]
  },
  {
   "cell_type": "markdown",
   "metadata": {},
   "source": [
    "The results of the LDA model are exactly the same as the regression model."
   ]
  },
  {
   "cell_type": "markdown",
   "metadata": {},
   "source": [
    "## F. Quadratic Discriminant Analysis of Market Direction "
   ]
  },
  {
   "cell_type": "markdown",
   "metadata": {},
   "source": [
    "Now we will use quadratic discriminant analysis on the weekly returns data set. QDA does not assume that all the classes have the same variance and hence their is a quadratic term in the maximization of the density function P(X=x|y=k). Again, sklearn will estimate the class priors, means, and variances and compute the class that maximizes the conditional probability P(y=k|X=x)."
   ]
  },
  {
   "cell_type": "code",
   "execution_count": 10,
   "metadata": {},
   "outputs": [
    {
     "name": "stdout",
     "output_type": "stream",
     "text": [
      "Priors =  [ 0.4477  0.5523]\n",
      "Class Means =  [-0.0357] [ 0.2604]\n",
      "Covariances =  [array([[ 4.8378]]), array([[ 5.3707]])]\n",
      "\n",
      "\n",
      "CONFUSION MATRIX\n",
      "      Down  Up\n",
      "Down     0   0\n",
      "Up      43  61\n",
      "\n",
      "\n",
      "Error Rate = 0.413461538462\n"
     ]
    }
   ],
   "source": [
    "# Build Classifier and Fit #\n",
    "############################\n",
    "qclf = QDA(store_covariances=True)\n",
    "qclf.fit(X_train,y_train)\n",
    "\n",
    "print('Priors = ', qclf.priors_ )\n",
    "print('Class Means = ', qclf.means_[0], qclf.means_[1])\n",
    "print('Covariances = ', qclf.covariances_)\n",
    "print('\\n')\n",
    "\n",
    "# Predict Test Set Responses #\n",
    "##############################\n",
    "y_predict = qclf.predict(X_test)\n",
    "#conver the predicted probabilities to class 0 or 1\n",
    "y_predicted= np.array(y_predict > 0.5, dtype=float)\n",
    "\n",
    "# Build Confusion Matrix #\n",
    "##########################\n",
    "table = np.histogram2d(y_predict, y_test, bins=2)[0]\n",
    "print('CONFUSION MATRIX')\n",
    "print(pd.DataFrame(table, ['Down', 'Up'], ['Down', 'Up']))\n",
    "print('\\n')\n",
    "print('Error Rate =', 1-(table[0,0]+table[1,1])/np.sum(table))"
   ]
  },
  {
   "cell_type": "markdown",
   "metadata": {},
   "source": [
    "For a quadratic decision boundary we need to have multiple predictors with different correlation for each class. Here we have a single predictor so the boundary cannot be quadratic. Thus the model perfoms poorly."
   ]
  },
  {
   "cell_type": "markdown",
   "metadata": {},
   "source": [
    "## G. K-Nearest Neighbors Analysis of Market Direction"
   ]
  },
  {
   "cell_type": "code",
   "execution_count": 16,
   "metadata": {},
   "outputs": [
    {
     "name": "stdout",
     "output_type": "stream",
     "text": [
      "      Down  Up\n",
      "Down    21  31\n",
      "Up      22  30\n",
      "\n",
      "Error Rate = 0.509615384615\n"
     ]
    }
   ],
   "source": [
    "# Build KNN Classifier and Fit #\n",
    "################################\n",
    "clf = KNeighborsClassifier(n_neighbors=1)\n",
    "clf.fit(X_train, y_train)\n",
    "\n",
    "# Predict Test Set Responses #\n",
    "##############################\n",
    "y_predicted = clf.predict(X_test)\n",
    "\n",
    "table = np.histogram2d(y_predicted, y_test , bins=2)[0]\n",
    "print(pd.DataFrame(table, ['Down', 'Up'], ['Down', 'Up']))\n",
    "print('')\n",
    "print('Error Rate =', 1-(table[0,0]+table[1,1])/np.sum(table))"
   ]
  },
  {
   "cell_type": "markdown",
   "metadata": {},
   "source": [
    "Using only 1 Nearest Neighbor, the model performs at chance level."
   ]
  },
  {
   "cell_type": "code",
   "execution_count": 30,
   "metadata": {},
   "outputs": [
    {
     "name": "stdout",
     "output_type": "stream",
     "text": [
      "      Down  Up\n",
      "Down    23  22\n",
      "Up      20  39\n",
      "\n",
      "Error Rate = 0.403846153846\n"
     ]
    }
   ],
   "source": [
    "# Build KNN Classifier and Fit #\n",
    "################################\n",
    "clf = KNeighborsClassifier(n_neighbors=20)\n",
    "clf.fit(X_train, y_train)\n",
    "\n",
    "# Predict Test Set Responses #\n",
    "##############################\n",
    "y_predicted = clf.predict(X_test)\n",
    "\n",
    "table = np.histogram2d(y_predicted, y_test , bins=2)[0]\n",
    "print(pd.DataFrame(table, ['Down', 'Up'], ['Down', 'Up']))\n",
    "print('')\n",
    "print('Error Rate =', 1-(table[0,0]+table[1,1])/np.sum(table))"
   ]
  },
  {
   "cell_type": "markdown",
   "metadata": {},
   "source": [
    "## H-I. Experiment with Predictors"
   ]
  },
  {
   "cell_type": "markdown",
   "metadata": {},
   "source": [
    "By varying the k-value, we can empiraically find the minimum test error rate. This occurs at ~ 20 nearest neighbors (see results above). The error rate (40 %) is still higher than in the logistic or LDA models. They perform best on this data set. \n",
    "\n",
    "**Model with Lag1, Lag2 and Lag3**\n",
    "\n",
    "It is unlikely that we can make much improvement on the model by adding more uncorrelated variables to the model. Below, I first tried adding Lag3, the predictor with the next lowest p-value. The error rate increases on the test data.\n",
    "\n",
    "** Model with Lag1 x Lag2 Interaction **\n",
    "\n",
    "The Lag2 variable in the full logistic model was the only variable with a significant coeffecient. The next most significant term was Lag1. We will build a model with both of these predictors and include an interaction term. We have very little motivation for this because the plots of Lag1 and Lag2 vs today's return do not indicate any strong relationships. "
   ]
  },
  {
   "cell_type": "markdown",
   "metadata": {},
   "source": [
    "### Model with Three Lags"
   ]
  },
  {
   "cell_type": "code",
   "execution_count": 45,
   "metadata": {},
   "outputs": [
    {
     "name": "stdout",
     "output_type": "stream",
     "text": [
      "Optimization terminated successfully.\n",
      "         Current function value: 0.683687\n",
      "         Iterations 4\n",
      "                           Logit Regression Results                           \n",
      "==============================================================================\n",
      "Dep. Variable:                      y   No. Observations:                  985\n",
      "Model:                          Logit   Df Residuals:                      981\n",
      "Method:                           MLE   Df Model:                            3\n",
      "Date:                Sat, 16 Jul 2016   Pseudo R-squ.:                0.005792\n",
      "Time:                        13:27:15   Log-Likelihood:                -673.43\n",
      "converged:                       True   LL-Null:                       -677.35\n",
      "                                        LLR p-value:                   0.04928\n",
      "==============================================================================\n",
      "                 coef    std err          z      P>|z|      [95.0% Conf. Int.]\n",
      "------------------------------------------------------------------------------\n",
      "const          0.2123      0.065      3.282      0.001         0.086     0.339\n",
      "Lag1          -0.0537      0.029     -1.856      0.063        -0.110     0.003\n",
      "Lag2           0.0531      0.029      1.823      0.068        -0.004     0.110\n",
      "Lag3          -0.0089      0.029     -0.308      0.758        -0.065     0.048\n",
      "==============================================================================\n",
      "\n",
      "\n",
      "CONFUSION MATRIX\n",
      "      Down  Up\n",
      "Down     8   9\n",
      "Up      35  52\n",
      "\n",
      "\n",
      "Error Rate = 0.423076923077\n"
     ]
    }
   ],
   "source": [
    "# Split Data #\n",
    "##############\n",
    "predictors = df.columns[1:4]\n",
    "X_train = sm.add_constant(df[df.Year <= 2008][predictors])\n",
    "response_train = df[df.Year <= 2008].Direction\n",
    "# convert responses to 0,1's\n",
    "y_train = np.array([1 if el=='Up' else 0 for el in response_train])\n",
    "\n",
    "# for the test set use the years > 2008\n",
    "X_test = sm.add_constant(df[df.Year > 2008][predictors])\n",
    "response_test = df[df.Year > 2008].Direction\n",
    "y_test = np.array([1 if el=='Up' else 0 for el in response_test])\n",
    "\n",
    "# Construct Classifier and Fit #\n",
    "################################\n",
    "logit = sm.Logit(y_train, X_train)\n",
    "results = logit.fit()\n",
    "print(results.summary())\n",
    "print('\\n')\n",
    "\n",
    "# Predict Test Set Responses #\n",
    "##############################\n",
    "y_predicted = results.predict(X_test)\n",
    "#conver the predicted probabilities to a class\n",
    "y_predicted= np.array(y_predicted > 0.5, dtype=float)\n",
    "\n",
    "# Build Confusion Matrix #\n",
    "##########################\n",
    "table = np.histogram2d(y_predicted, y_test, bins=2)[0]\n",
    "print('CONFUSION MATRIX')\n",
    "print(pd.DataFrame(table, ['Down', 'Up'], ['Down', 'Up']))\n",
    "print('\\n')\n",
    "print('Error Rate =', 1-(table[0,0]+table[1,1])/np.sum(table))"
   ]
  },
  {
   "cell_type": "markdown",
   "metadata": {},
   "source": [
    "### Model with Two Lags and Interaction"
   ]
  },
  {
   "cell_type": "code",
   "execution_count": 48,
   "metadata": {},
   "outputs": [
    {
     "name": "stdout",
     "output_type": "stream",
     "text": [
      "Optimization terminated successfully.\n",
      "         Current function value: 0.683701\n",
      "         Iterations 4\n",
      "                           Logit Regression Results                           \n",
      "==============================================================================\n",
      "Dep. Variable:                      y   No. Observations:                  985\n",
      "Model:                          Logit   Df Residuals:                      981\n",
      "Method:                           MLE   Df Model:                            3\n",
      "Date:                Sat, 16 Jul 2016   Pseudo R-squ.:                0.005772\n",
      "Time:                        13:39:28   Log-Likelihood:                -673.45\n",
      "converged:                       True   LL-Null:                       -677.35\n",
      "                                        LLR p-value:                   0.04990\n",
      "==============================================================================\n",
      "                 coef    std err          z      P>|z|      [95.0% Conf. Int.]\n",
      "------------------------------------------------------------------------------\n",
      "const          0.2114      0.065      3.273      0.001         0.085     0.338\n",
      "Lag1          -0.0515      0.031     -1.676      0.094        -0.112     0.009\n",
      "Lag2           0.0535      0.029      1.832      0.067        -0.004     0.111\n",
      "Lag1xLag2      0.0019      0.007      0.257      0.797        -0.013     0.017\n",
      "==============================================================================\n",
      "\n",
      "\n",
      "CONFUSION MATRIX\n",
      "      Down  Up\n",
      "Down     7   8\n",
      "Up      36  53\n",
      "\n",
      "\n",
      "Error Rate = 0.423076923077\n"
     ]
    }
   ],
   "source": [
    "# Add Interaction #\n",
    "###################\n",
    "# add the interaction term to the dataframe\n",
    "df['Lag1xLag2'] = pd.Series(df.Lag1*df.Lag2, index=df.index)\n",
    "predictors = ['Lag1', 'Lag2', 'Lag1xLag2']\n",
    "\n",
    "# Split Data #\n",
    "##############\n",
    "X_train = sm.add_constant(df[df.Year <= 2008][predictors])\n",
    "response_train = df[df.Year <= 2008].Direction\n",
    "# convert responses to 0,1's\n",
    "y_train = np.array([1 if el=='Up' else 0 for el in response_train])\n",
    "\n",
    "# for the test set use the years > 2008\n",
    "X_test = sm.add_constant(df[df.Year > 2008][predictors])\n",
    "response_test = df[df.Year > 2008].Direction\n",
    "y_test = np.array([1 if el=='Up' else 0 for el in response_test])\n",
    "\n",
    "# Construct Classifier and Fit #\n",
    "################################\n",
    "logit = sm.Logit(y_train, X_train)\n",
    "results = logit.fit()\n",
    "print(results.summary())\n",
    "print('\\n')\n",
    "\n",
    "# Predict Test Set Responses #\n",
    "##############################\n",
    "y_predicted = results.predict(X_test)\n",
    "#conver the predicted probabilities to a class\n",
    "y_predicted= np.array(y_predicted > 0.5, dtype=float)\n",
    "\n",
    "# Build Confusion Matrix #\n",
    "##########################\n",
    "table = np.histogram2d(y_predicted, y_test, bins=2)[0]\n",
    "print('CONFUSION MATRIX')\n",
    "print(pd.DataFrame(table, ['Down', 'Up'], ['Down', 'Up']))\n",
    "print('\\n')\n",
    "print('Error Rate =', 1-(table[0,0]+table[1,1])/np.sum(table))"
   ]
  },
  {
   "cell_type": "markdown",
   "metadata": {},
   "source": [
    "Again we are finding no improvement, the best model is the logistic or LDA model. In these models we used only the significant Lag2 variable and achieved and error rate ~33%. "
   ]
  },
  {
   "cell_type": "code",
   "execution_count": null,
   "metadata": {
    "collapsed": true
   },
   "outputs": [],
   "source": []
  }
 ],
 "metadata": {
  "kernelspec": {
   "display_name": "Python 3",
   "language": "python",
   "name": "python3"
  },
  "language_info": {
   "codemirror_mode": {
    "name": "ipython",
    "version": 3
   },
   "file_extension": ".py",
   "mimetype": "text/x-python",
   "name": "python",
   "nbconvert_exporter": "python",
   "pygments_lexer": "ipython3",
   "version": "3.6.5"
  }
 },
 "nbformat": 4,
 "nbformat_minor": 1
}
