{
 "cells": [
  {
   "cell_type": "markdown",
   "metadata": {},
   "source": [
    "# ISLR-Python Ch5 Applied 9"
   ]
  },
  {
   "cell_type": "markdown",
   "metadata": {},
   "source": [
    "- [Load Boston Dataset](#Load-Boston-Dataset)\n",
    "- [A. Estimate Mean Medv: mu](#A.-Estimate-Mean-Medv:-mu)\n",
    "- [B. Estimate SE of mu](#B.-Estimate-SE-of-mu)\n",
    "- [C. Bootsrap Estimate of SE of mu](#C.-Bootstrap-Estimate-of-SE-of-mu)\n",
    "- [D. Construct 95% CI for mu](#D.-Construct-95%-CI-for-mu)\n",
    "- [E. Compute Median of Medv: mu_med](#E.-Compute-Median-of-Medv:-mu_med)\n",
    "- [F. Estimate SE of mu_med](#F.-Estimate-SE-of-mu_med)\n",
    "- [G. Estimate Tenth Percentile of Medv](#G.-Estimate-Tenth-Percentile-of-Medv)\n",
    "- [H. Estimate SE of mu_0.1](#H.-Estimate-SE-of-mu_0.1)"
   ]
  },
  {
   "cell_type": "code",
   "execution_count": 1,
   "metadata": {},
   "outputs": [],
   "source": [
    "# Imports\n",
    "import numpy as np \n",
    "import pandas as pd\n",
    "\n",
    "from matplotlib import pyplot as plt\n",
    "from scipy import stats as stats\n",
    "from functools import partial\n",
    "\n",
    "# print numpy arrays with precision 4\n",
    "np.set_printoptions(precision=4)"
   ]
  },
  {
   "cell_type": "code",
   "execution_count": 2,
   "metadata": {},
   "outputs": [
    {
     "data": {
      "text/html": [
       "<div>\n",
       "<style scoped>\n",
       "    .dataframe tbody tr th:only-of-type {\n",
       "        vertical-align: middle;\n",
       "    }\n",
       "\n",
       "    .dataframe tbody tr th {\n",
       "        vertical-align: top;\n",
       "    }\n",
       "\n",
       "    .dataframe thead th {\n",
       "        text-align: right;\n",
       "    }\n",
       "</style>\n",
       "<table border=\"1\" class=\"dataframe\">\n",
       "  <thead>\n",
       "    <tr style=\"text-align: right;\">\n",
       "      <th></th>\n",
       "      <th>zn</th>\n",
       "      <th>indus</th>\n",
       "      <th>chas</th>\n",
       "      <th>nox</th>\n",
       "      <th>rm</th>\n",
       "      <th>age</th>\n",
       "      <th>dis</th>\n",
       "      <th>rad</th>\n",
       "      <th>tax</th>\n",
       "      <th>ptratio</th>\n",
       "      <th>black</th>\n",
       "      <th>lstat</th>\n",
       "      <th>medv</th>\n",
       "    </tr>\n",
       "    <tr>\n",
       "      <th>crim</th>\n",
       "      <th></th>\n",
       "      <th></th>\n",
       "      <th></th>\n",
       "      <th></th>\n",
       "      <th></th>\n",
       "      <th></th>\n",
       "      <th></th>\n",
       "      <th></th>\n",
       "      <th></th>\n",
       "      <th></th>\n",
       "      <th></th>\n",
       "      <th></th>\n",
       "      <th></th>\n",
       "    </tr>\n",
       "  </thead>\n",
       "  <tbody>\n",
       "    <tr>\n",
       "      <th>0.00632</th>\n",
       "      <td>18.0</td>\n",
       "      <td>2.31</td>\n",
       "      <td>0</td>\n",
       "      <td>0.538</td>\n",
       "      <td>6.575</td>\n",
       "      <td>65.2</td>\n",
       "      <td>4.0900</td>\n",
       "      <td>1</td>\n",
       "      <td>296</td>\n",
       "      <td>15.3</td>\n",
       "      <td>396.90</td>\n",
       "      <td>4.98</td>\n",
       "      <td>24.0</td>\n",
       "    </tr>\n",
       "    <tr>\n",
       "      <th>0.02731</th>\n",
       "      <td>0.0</td>\n",
       "      <td>7.07</td>\n",
       "      <td>0</td>\n",
       "      <td>0.469</td>\n",
       "      <td>6.421</td>\n",
       "      <td>78.9</td>\n",
       "      <td>4.9671</td>\n",
       "      <td>2</td>\n",
       "      <td>242</td>\n",
       "      <td>17.8</td>\n",
       "      <td>396.90</td>\n",
       "      <td>9.14</td>\n",
       "      <td>21.6</td>\n",
       "    </tr>\n",
       "    <tr>\n",
       "      <th>0.02729</th>\n",
       "      <td>0.0</td>\n",
       "      <td>7.07</td>\n",
       "      <td>0</td>\n",
       "      <td>0.469</td>\n",
       "      <td>7.185</td>\n",
       "      <td>61.1</td>\n",
       "      <td>4.9671</td>\n",
       "      <td>2</td>\n",
       "      <td>242</td>\n",
       "      <td>17.8</td>\n",
       "      <td>392.83</td>\n",
       "      <td>4.03</td>\n",
       "      <td>34.7</td>\n",
       "    </tr>\n",
       "    <tr>\n",
       "      <th>0.03237</th>\n",
       "      <td>0.0</td>\n",
       "      <td>2.18</td>\n",
       "      <td>0</td>\n",
       "      <td>0.458</td>\n",
       "      <td>6.998</td>\n",
       "      <td>45.8</td>\n",
       "      <td>6.0622</td>\n",
       "      <td>3</td>\n",
       "      <td>222</td>\n",
       "      <td>18.7</td>\n",
       "      <td>394.63</td>\n",
       "      <td>2.94</td>\n",
       "      <td>33.4</td>\n",
       "    </tr>\n",
       "    <tr>\n",
       "      <th>0.06905</th>\n",
       "      <td>0.0</td>\n",
       "      <td>2.18</td>\n",
       "      <td>0</td>\n",
       "      <td>0.458</td>\n",
       "      <td>7.147</td>\n",
       "      <td>54.2</td>\n",
       "      <td>6.0622</td>\n",
       "      <td>3</td>\n",
       "      <td>222</td>\n",
       "      <td>18.7</td>\n",
       "      <td>396.90</td>\n",
       "      <td>5.33</td>\n",
       "      <td>36.2</td>\n",
       "    </tr>\n",
       "  </tbody>\n",
       "</table>\n",
       "</div>"
      ],
      "text/plain": [
       "           zn  indus  chas    nox     rm   age     dis  rad  tax  ptratio  \\\n",
       "crim                                                                        \n",
       "0.00632  18.0   2.31     0  0.538  6.575  65.2  4.0900    1  296     15.3   \n",
       "0.02731   0.0   7.07     0  0.469  6.421  78.9  4.9671    2  242     17.8   \n",
       "0.02729   0.0   7.07     0  0.469  7.185  61.1  4.9671    2  242     17.8   \n",
       "0.03237   0.0   2.18     0  0.458  6.998  45.8  6.0622    3  222     18.7   \n",
       "0.06905   0.0   2.18     0  0.458  7.147  54.2  6.0622    3  222     18.7   \n",
       "\n",
       "          black  lstat  medv  \n",
       "crim                          \n",
       "0.00632  396.90   4.98  24.0  \n",
       "0.02731  396.90   9.14  21.6  \n",
       "0.02729  392.83   4.03  34.7  \n",
       "0.03237  394.63   2.94  33.4  \n",
       "0.06905  396.90   5.33  36.2  "
      ]
     },
     "execution_count": 2,
     "metadata": {},
     "output_type": "execute_result"
    }
   ],
   "source": [
    "boston= pd.read_csv('../data/Boston.csv', index_col=0)\n",
    "boston.head()"
   ]
  },
  {
   "cell_type": "markdown",
   "metadata": {},
   "source": [
    "## A. Estimate Mean Medv: mu"
   ]
  },
  {
   "cell_type": "code",
   "execution_count": 114,
   "metadata": {},
   "outputs": [
    {
     "name": "stdout",
     "output_type": "stream",
     "text": [
      "mu =  22.5328063241\n"
     ]
    }
   ],
   "source": [
    "# Get mean of medv column\n",
    "mu = boston.medv.mean(axis=0)\n",
    "print('mu = ',mu)"
   ]
  },
  {
   "cell_type": "markdown",
   "metadata": {},
   "source": [
    "## B. Estimate SE of mu"
   ]
  },
  {
   "cell_type": "markdown",
   "metadata": {},
   "source": [
    "We estimate the SE of a statistic by $\\frac{SD}{\\sqrt{n}}$"
   ]
  },
  {
   "cell_type": "code",
   "execution_count": 115,
   "metadata": {},
   "outputs": [
    {
     "name": "stdout",
     "output_type": "stream",
     "text": [
      "SE(mu) =  0.408861147498\n"
     ]
    }
   ],
   "source": [
    "SE = boston.medv.std(axis=0)/np.sqrt(len(boston))\n",
    "print('SE(mu) = ', SE)"
   ]
  },
  {
   "cell_type": "markdown",
   "metadata": {},
   "source": [
    "## C. Bootstrap Estimate of SE of mu"
   ]
  },
  {
   "cell_type": "code",
   "execution_count": 116,
   "metadata": {},
   "outputs": [
    {
     "name": "stdout",
     "output_type": "stream",
     "text": [
      "0.408671617577\n"
     ]
    }
   ],
   "source": [
    "# Create Boot Func #\n",
    "####################\n",
    "def boot(df, column, statistic, num_samples=10000):\n",
    "    \"\"\"\n",
    "    Returns a bootstrapped estimate of the SE of the statistic applied to column in dataframe.\n",
    "    \"\"\"\n",
    "    \n",
    "    def bootstrap_sample(df, column, statistic):\n",
    "        \"\"\"\n",
    "        Compute bootstrap sample of column in dataframe df applying statistic function.\n",
    "        \"\"\"\n",
    "        # get a random sampling of indices\n",
    "        boot_indices = np.random.choice(df.index, size=len(df), replace=True)\n",
    "        # compute a sample statistic\n",
    "        sample_stat = statistic(df[column].loc[boot_indices])\n",
    "    \n",
    "        return sample_stat\n",
    "    \n",
    "    return scipy.std([bootstrap_sample(df, column, statistic) for sample in range(num_samples)],axis=0)\n",
    "\n",
    "print(boot(boston,'medv', np.mean))"
   ]
  },
  {
   "cell_type": "markdown",
   "metadata": {},
   "source": [
    "This value is within 1/1000th of the computed SE in B."
   ]
  },
  {
   "cell_type": "markdown",
   "metadata": {},
   "source": [
    "## D. Construct 95% CI for mu"
   ]
  },
  {
   "cell_type": "markdown",
   "metadata": {},
   "source": [
    "A confidence interval for the t-distribution is $\\left[\\mu - t_{\\alpha/2,n-1}SE, \\quad \\mu + t_{\\alpha/2,n-1}SE\\right]$. The text approximates $t_{a/2,n-1}$ as 2. Lets get the exact value here."
   ]
  },
  {
   "cell_type": "code",
   "execution_count": 117,
   "metadata": {},
   "outputs": [
    {
     "name": "stdout",
     "output_type": "stream",
     "text": [
      "t_alpha/2,n-1 = 1.96467263874\n"
     ]
    }
   ],
   "source": [
    "# compute t_alpha/2,n-1, This is the inverse 1-CDF function called survival function in scipy\n",
    "t_alpha = stats.t.isf(.05/2,len(boston)-1)\n",
    "print('t_alpha/2,n-1 =', t_alpha )"
   ]
  },
  {
   "cell_type": "markdown",
   "metadata": {},
   "source": [
    "So the text's approximation of 2 value is 2% off the true value t_alpha/2,n-1... pretty close"
   ]
  },
  {
   "cell_type": "code",
   "execution_count": 118,
   "metadata": {},
   "outputs": [
    {
     "name": "stdout",
     "output_type": "stream",
     "text": [
      "CI = [ 21.7295  23.3361]\n"
     ]
    }
   ],
   "source": [
    "# print out the confidence interval\n",
    "print('CI =' ,np.array([mu-t_alpha*SE, mu+t_alpha*SE]))"
   ]
  },
  {
   "cell_type": "markdown",
   "metadata": {},
   "source": [
    "## E. Compute Median of Medv: mu_med"
   ]
  },
  {
   "cell_type": "code",
   "execution_count": 119,
   "metadata": {},
   "outputs": [
    {
     "name": "stdout",
     "output_type": "stream",
     "text": [
      "21.2\n"
     ]
    }
   ],
   "source": [
    "median = boston.medv.median(axis=0)\n",
    "print(median)"
   ]
  },
  {
   "cell_type": "markdown",
   "metadata": {},
   "source": [
    "## F. Estimate SE of mu_med"
   ]
  },
  {
   "cell_type": "code",
   "execution_count": 120,
   "metadata": {},
   "outputs": [
    {
     "name": "stdout",
     "output_type": "stream",
     "text": [
      "Standard Error of Median = 0.37450551064\n"
     ]
    }
   ],
   "source": [
    "# The boot function written above can take any stat function so use it here\n",
    "se_mu_med = boot(boston, 'medv', np.median)\n",
    "print('Standard Error of Median =', se_mu_med)"
   ]
  },
  {
   "cell_type": "markdown",
   "metadata": {},
   "source": [
    "The standard error of the median is slightly smaller than the standard error of the mean. This makes sense when we look at a histogram of medv."
   ]
  },
  {
   "cell_type": "code",
   "execution_count": 121,
   "metadata": {},
   "outputs": [
    {
     "data": {
      "image/png": "[encoded data removed]",
      "text/plain": [
       "<matplotlib.figure.Figure at 0x7fd949e01c50>"
      ]
     },
     "metadata": {},
     "output_type": "display_data"
    }
   ],
   "source": [
    "fig, ax1 = plt.subplots(figsize=(6,3))\n",
    "boston.hist('medv',ax = ax1);\n",
    "ax1.set_xlabel('MEDV');\n",
    "ax1.set_ylabel('Counts');\n",
    "plt.title('');"
   ]
  },
  {
   "cell_type": "markdown",
   "metadata": {},
   "source": [
    "The data has a ~20 large MEDVs (> 45). The mean will be pulled by these large values but the median is less swayed by these large values because it only looks at the number of points above and below the 50% of total data. For example the values 35 and 50 are treated the same i.e. they both lie in the upper 50%."
   ]
  },
  {
   "cell_type": "markdown",
   "metadata": {},
   "source": [
    "## G. Estimate Tenth Percentile of Medv"
   ]
  },
  {
   "cell_type": "code",
   "execution_count": 122,
   "metadata": {},
   "outputs": [
    {
     "name": "stdout",
     "output_type": "stream",
     "text": [
      "12.75\n"
     ]
    }
   ],
   "source": [
    "mu_0p1 = boston.medv.quantile(q=0.1)\n",
    "print(mu_0p1)"
   ]
  },
  {
   "cell_type": "markdown",
   "metadata": {},
   "source": [
    "## H. Estimate SE of mu_0.1"
   ]
  },
  {
   "cell_type": "code",
   "execution_count": 123,
   "metadata": {},
   "outputs": [
    {
     "name": "stdout",
     "output_type": "stream",
     "text": [
      "Standard Error of Median = 0.497726174091\n"
     ]
    }
   ],
   "source": [
    "# The boot function written in C can take any stat function so use it here\n",
    "# create a 10th percentile stats function using np.percentile\n",
    "f = partial(np.percentile, q=10)\n",
    "# call our boot function from c\n",
    "se_mu_med = boot(boston, 'medv',f)\n",
    "print('Standard Error of Median =', se_mu_med)"
   ]
  },
  {
   "cell_type": "markdown",
   "metadata": {},
   "source": [
    "The mu of the tenth percentile is more variable than mu_med. There are many fewer values in this small segement of the population."
   ]
  }
 ],
 "metadata": {
  "kernelspec": {
   "display_name": "Python 3",
   "language": "python",
   "name": "python3"
  },
  "language_info": {
   "codemirror_mode": {
    "name": "ipython",
    "version": 3
   },
   "file_extension": ".py",
   "mimetype": "text/x-python",
   "name": "python",
   "nbconvert_exporter": "python",
   "pygments_lexer": "ipython3",
   "version": "3.6.5"
  }
 },
 "nbformat": 4,
 "nbformat_minor": 1
}
