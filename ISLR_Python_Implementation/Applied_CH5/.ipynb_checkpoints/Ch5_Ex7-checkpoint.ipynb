{
 "cells": [
  {
   "cell_type": "markdown",
   "metadata": {},
   "source": [
    "# ISLR-Python: Ch5 Applied 7"
   ]
  },
  {
   "cell_type": "markdown",
   "metadata": {},
   "source": [
    "- [Load Weekly Dataset](#Load-Weekly-Dataset)\n",
    "- [A. Fit Logistic Model for Market Direction](#A.-Fit-Logistic-Model-for-Market-Direction)\n",
    "- [B. Fit Logistic Model Leaving Out One Observation](#B.-Fit-Logistic-Model-Leaving-Out-One-Observation)\n",
    "- [C. Use One-Out Model to Predict Unused Observation](#C.-Use-One-Out-Model-to-Predict-Unused-Observation)\n",
    "- [D-E. Perform LOOCV](#D-E.-Perform-LOOCV)"
   ]
  },
  {
   "cell_type": "code",
   "execution_count": 1,
   "metadata": {},
   "outputs": [],
   "source": [
    "## perform imports and set-up\n",
    "import numpy as np\n",
    "import pandas as pd\n",
    "import scipy\n",
    "import statsmodels.api as sm\n",
    "\n",
    "from matplotlib import pyplot as plt\n",
    "\n",
    "%matplotlib inline\n",
    "plt.style.use('ggplot') # emulate pretty r-style plots\n",
    "\n",
    "# print numpy arrays with precision 4\n",
    "np.set_printoptions(precision=4)"
   ]
  },
  {
   "cell_type": "markdown",
   "metadata": {},
   "source": [
    "## Load Weekly Dataset"
   ]
  },
  {
   "cell_type": "code",
   "execution_count": 2,
   "metadata": {},
   "outputs": [
    {
     "data": {
      "text/html": [
       "<div>\n",
       "<style scoped>\n",
       "    .dataframe tbody tr th:only-of-type {\n",
       "        vertical-align: middle;\n",
       "    }\n",
       "\n",
       "    .dataframe tbody tr th {\n",
       "        vertical-align: top;\n",
       "    }\n",
       "\n",
       "    .dataframe thead th {\n",
       "        text-align: right;\n",
       "    }\n",
       "</style>\n",
       "<table border=\"1\" class=\"dataframe\">\n",
       "  <thead>\n",
       "    <tr style=\"text-align: right;\">\n",
       "      <th></th>\n",
       "      <th>Year</th>\n",
       "      <th>Lag1</th>\n",
       "      <th>Lag2</th>\n",
       "      <th>Lag3</th>\n",
       "      <th>Lag4</th>\n",
       "      <th>Lag5</th>\n",
       "      <th>Volume</th>\n",
       "      <th>Today</th>\n",
       "      <th>Direction</th>\n",
       "    </tr>\n",
       "  </thead>\n",
       "  <tbody>\n",
       "    <tr>\n",
       "      <th>0</th>\n",
       "      <td>1990</td>\n",
       "      <td>0.816</td>\n",
       "      <td>1.572</td>\n",
       "      <td>-3.936</td>\n",
       "      <td>-0.229</td>\n",
       "      <td>-3.484</td>\n",
       "      <td>0.154976</td>\n",
       "      <td>-0.270</td>\n",
       "      <td>False</td>\n",
       "    </tr>\n",
       "    <tr>\n",
       "      <th>1</th>\n",
       "      <td>1990</td>\n",
       "      <td>-0.270</td>\n",
       "      <td>0.816</td>\n",
       "      <td>1.572</td>\n",
       "      <td>-3.936</td>\n",
       "      <td>-0.229</td>\n",
       "      <td>0.148574</td>\n",
       "      <td>-2.576</td>\n",
       "      <td>False</td>\n",
       "    </tr>\n",
       "    <tr>\n",
       "      <th>2</th>\n",
       "      <td>1990</td>\n",
       "      <td>-2.576</td>\n",
       "      <td>-0.270</td>\n",
       "      <td>0.816</td>\n",
       "      <td>1.572</td>\n",
       "      <td>-3.936</td>\n",
       "      <td>0.159837</td>\n",
       "      <td>3.514</td>\n",
       "      <td>True</td>\n",
       "    </tr>\n",
       "    <tr>\n",
       "      <th>3</th>\n",
       "      <td>1990</td>\n",
       "      <td>3.514</td>\n",
       "      <td>-2.576</td>\n",
       "      <td>-0.270</td>\n",
       "      <td>0.816</td>\n",
       "      <td>1.572</td>\n",
       "      <td>0.161630</td>\n",
       "      <td>0.712</td>\n",
       "      <td>True</td>\n",
       "    </tr>\n",
       "    <tr>\n",
       "      <th>4</th>\n",
       "      <td>1990</td>\n",
       "      <td>0.712</td>\n",
       "      <td>3.514</td>\n",
       "      <td>-2.576</td>\n",
       "      <td>-0.270</td>\n",
       "      <td>0.816</td>\n",
       "      <td>0.153728</td>\n",
       "      <td>1.178</td>\n",
       "      <td>True</td>\n",
       "    </tr>\n",
       "  </tbody>\n",
       "</table>\n",
       "</div>"
      ],
      "text/plain": [
       "   Year   Lag1   Lag2   Lag3   Lag4   Lag5    Volume  Today  Direction\n",
       "0  1990  0.816  1.572 -3.936 -0.229 -3.484  0.154976 -0.270      False\n",
       "1  1990 -0.270  0.816  1.572 -3.936 -0.229  0.148574 -2.576      False\n",
       "2  1990 -2.576 -0.270  0.816  1.572 -3.936  0.159837  3.514       True\n",
       "3  1990  3.514 -2.576 -0.270  0.816  1.572  0.161630  0.712       True\n",
       "4  1990  0.712  3.514 -2.576 -0.270  0.816  0.153728  1.178       True"
      ]
     },
     "execution_count": 2,
     "metadata": {},
     "output_type": "execute_result"
    }
   ],
   "source": [
    "df = pd.read_csv('../data/Weekly.csv', true_values=['Up'], false_values=['Down'])\n",
    "df.head()"
   ]
  },
  {
   "cell_type": "markdown",
   "metadata": {},
   "source": [
    "## A. Fit Logistic Model for Market Direction"
   ]
  },
  {
   "cell_type": "markdown",
   "metadata": {},
   "source": [
    "When we loaded the dataframe we assert that 'Up' directions be encoded as true and 'Down' market directions be encoded as False. We now fit a logistic model to the data using the lag1 and lag2 variables as the predictors and the direction as the response class."
   ]
  },
  {
   "cell_type": "code",
   "execution_count": 5,
   "metadata": {},
   "outputs": [
    {
     "name": "stdout",
     "output_type": "stream",
     "text": [
      "Optimization terminated successfully.\n",
      "         Current function value: 0.683297\n",
      "         Iterations 4\n",
      "                           Logit Regression Results                           \n",
      "==============================================================================\n",
      "Dep. Variable:              Direction   No. Observations:                 1089\n",
      "Model:                          Logit   Df Residuals:                     1086\n",
      "Method:                           MLE   Df Model:                            2\n",
      "Date:                Wed, 27 Jul 2016   Pseudo R-squ.:                0.005335\n",
      "Time:                        14:52:03   Log-Likelihood:                -744.11\n",
      "converged:                       True   LL-Null:                       -748.10\n",
      "                                        LLR p-value:                   0.01848\n",
      "==============================================================================\n",
      "                 coef    std err          z      P>|z|      [95.0% Conf. Int.]\n",
      "------------------------------------------------------------------------------\n",
      "const          0.2212      0.061      3.599      0.000         0.101     0.342\n",
      "Lag1          -0.0387      0.026     -1.477      0.140        -0.090     0.013\n",
      "Lag2           0.0602      0.027      2.270      0.023         0.008     0.112\n",
      "==============================================================================\n"
     ]
    }
   ],
   "source": [
    "# Construct Design matrix #\n",
    "###########################\n",
    "X = sm.add_constant(df[['Lag1', 'Lag2']])\n",
    "y = df.Direction\n",
    "\n",
    "# Model and Fit #\n",
    "#################\n",
    "results = sm.Logit(y,X).fit()\n",
    "print(results.summary())"
   ]
  },
  {
   "cell_type": "markdown",
   "metadata": {},
   "source": [
    "## B. Fit Logistic Model Leaving Out One Observation"
   ]
  },
  {
   "cell_type": "markdown",
   "metadata": {},
   "source": [
    "We are working our way slowly up to a function that will perform LOOCV. As a first step we will leave out the 1st observation and try to predict Market Direction for this observation from the remaining observations."
   ]
  },
  {
   "cell_type": "code",
   "execution_count": 13,
   "metadata": {},
   "outputs": [],
   "source": [
    "# Construct Design matrix #\n",
    "###########################\n",
    "X_oo = sm.add_constant(df[['Lag1', 'Lag2']]).loc[1:]\n",
    "y_oo = df.Direction.loc[1:]\n",
    "\n",
    "# Model and Fit #\n",
    "#################\n",
    "results_oo = sm.Logit(y_oo,X_oo).fit(disp = 0)"
   ]
  },
  {
   "cell_type": "markdown",
   "metadata": {},
   "source": [
    " ## C. Use One-Out Model to Predict Unused Observation"
   ]
  },
  {
   "cell_type": "code",
   "execution_count": 18,
   "metadata": {},
   "outputs": [
    {
     "name": "stdout",
     "output_type": "stream",
     "text": [
      "[ True]\n"
     ]
    }
   ],
   "source": [
    "y_oo_predicted = results_oo.predict(X.loc[0])\n",
    "print(y_oo_predicted > 0.5)"
   ]
  },
  {
   "cell_type": "markdown",
   "metadata": {},
   "source": [
    "So the model incorrectly classified the 1st observation as 'Up' when in fact it is 'Down'."
   ]
  },
  {
   "cell_type": "markdown",
   "metadata": {},
   "source": [
    "## D-E. Perform LOOCV"
   ]
  },
  {
   "cell_type": "markdown",
   "metadata": {},
   "source": [
    "#### In this exercise we are asked to perform LOOCV by hand; that is compute in a for loop (1) leave out the ith observation, (2) construct model and fit (3) predict the market direction for the left out observation (4) compute the error rate of the model's predictions"
   ]
  },
  {
   "cell_type": "code",
   "execution_count": 32,
   "metadata": {},
   "outputs": [
    {
     "name": "stdout",
     "output_type": "stream",
     "text": [
      "LOOCV Error Rate = 0.444444444444\n"
     ]
    }
   ],
   "source": [
    "y_predictions = np.array([])\n",
    "\n",
    "for obs in range(len(df)):\n",
    "    indices = df.index\n",
    "    # use list slicing and concatenate to generate a list without obs\n",
    "    X_train = sm.add_constant(df[['Lag1','Lag2']]).loc(np.concatenate((indices[:obs],indices[obs+1:]),axis=0))\n",
    "    y_train = df['Direction'].loc(np.concatenate((indices[:obs], indices[obs+1:]),axis=0))\n",
    "    \n",
    "    # fit the model on the training observation\n",
    "    result = sm.Logit(y,X).fit(disp=0)\n",
    "    \n",
    "    # predict market direction for the left out obs and append\n",
    "    y_predictions = np.append(y_predictions, result.predict(sm.add_constant(df[['Lag1', 'Lag2']]).loc[obs]))\n",
    "    \n",
    "# Compare the y_predictions with the actual market directions to get Error Rate\n",
    "y_predictions = (y_predictions > 0.5)\n",
    "print('LOOCV Error Rate =', np.mean(y_predictions != df.Direction.values))"
   ]
  },
  {
   "cell_type": "markdown",
   "metadata": {},
   "source": [
    "In Chapter 4, \"Classification\", we fit a logistic regression model in Applied question 10 using all of the variables as predictors we determined the error rate to be 43%. This value is close to that previous finding. We noted in that model that Lag2 was the most significant variable p=0.03."
   ]
  }
 ],
 "metadata": {
  "kernelspec": {
   "display_name": "Python 3",
   "language": "python",
   "name": "python3"
  },
  "language_info": {
   "codemirror_mode": {
    "name": "ipython",
    "version": 3
   },
   "file_extension": ".py",
   "mimetype": "text/x-python",
   "name": "python",
   "nbconvert_exporter": "python",
   "pygments_lexer": "ipython3",
   "version": "3.6.5"
  }
 },
 "nbformat": 4,
 "nbformat_minor": 1
}
