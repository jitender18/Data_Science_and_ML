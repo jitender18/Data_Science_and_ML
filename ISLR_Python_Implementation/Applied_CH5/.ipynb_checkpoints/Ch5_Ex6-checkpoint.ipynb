{
 "cells": [
  {
   "cell_type": "markdown",
   "metadata": {},
   "source": [
    "# ISLR-Python Ch5 Applied 6 "
   ]
  },
  {
   "cell_type": "markdown",
   "metadata": {},
   "source": [
    "- [Load Default Dataset](#Load-Default-Dataset)\n",
    "- [A. Compute Standard Errors of Coeffecients](#A.-Compute-Standard-Errors-of-Coeffecients)\n",
    "- [B. Write Function to Generate Coeffecient Estimates](#B.-Write-Function-to-Generate-Coeffecient-Estimates)\n",
    "- [C-D. Bootstrap Coeffecient Standard Errors and Compare](#C-D.-Bootstrap-Coeffecient-Standard-Errors-and-Compare)"
   ]
  },
  {
   "cell_type": "code",
   "execution_count": 1,
   "metadata": {},
   "outputs": [],
   "source": [
    "## perform imports and set-up\n",
    "import numpy as np\n",
    "import pandas as pd\n",
    "import scipy\n",
    "import statsmodels.api as sm\n",
    "\n",
    "from matplotlib import pyplot as plt\n",
    "\n",
    "%matplotlib inline\n",
    "plt.style.use('ggplot') # emulate pretty r-style plots\n",
    "\n",
    "# print numpy arrays with precision 4\n",
    "np.set_printoptions(precision=4)"
   ]
  },
  {
   "cell_type": "markdown",
   "metadata": {},
   "source": [
    "## Load Default Dataset"
   ]
  },
  {
   "cell_type": "code",
   "execution_count": 2,
   "metadata": {},
   "outputs": [
    {
     "name": "stdout",
     "output_type": "stream",
     "text": [
      "10000\n"
     ]
    },
    {
     "data": {
      "text/html": [
       "<div>\n",
       "<style scoped>\n",
       "    .dataframe tbody tr th:only-of-type {\n",
       "        vertical-align: middle;\n",
       "    }\n",
       "\n",
       "    .dataframe tbody tr th {\n",
       "        vertical-align: top;\n",
       "    }\n",
       "\n",
       "    .dataframe thead th {\n",
       "        text-align: right;\n",
       "    }\n",
       "</style>\n",
       "<table border=\"1\" class=\"dataframe\">\n",
       "  <thead>\n",
       "    <tr style=\"text-align: right;\">\n",
       "      <th></th>\n",
       "      <th>default</th>\n",
       "      <th>student</th>\n",
       "      <th>balance</th>\n",
       "      <th>income</th>\n",
       "    </tr>\n",
       "  </thead>\n",
       "  <tbody>\n",
       "    <tr>\n",
       "      <th>1</th>\n",
       "      <td>False</td>\n",
       "      <td>False</td>\n",
       "      <td>729.526495</td>\n",
       "      <td>44361.625074</td>\n",
       "    </tr>\n",
       "    <tr>\n",
       "      <th>2</th>\n",
       "      <td>False</td>\n",
       "      <td>True</td>\n",
       "      <td>817.180407</td>\n",
       "      <td>12106.134700</td>\n",
       "    </tr>\n",
       "    <tr>\n",
       "      <th>3</th>\n",
       "      <td>False</td>\n",
       "      <td>False</td>\n",
       "      <td>1073.549164</td>\n",
       "      <td>31767.138947</td>\n",
       "    </tr>\n",
       "    <tr>\n",
       "      <th>4</th>\n",
       "      <td>False</td>\n",
       "      <td>False</td>\n",
       "      <td>529.250605</td>\n",
       "      <td>35704.493935</td>\n",
       "    </tr>\n",
       "    <tr>\n",
       "      <th>5</th>\n",
       "      <td>False</td>\n",
       "      <td>False</td>\n",
       "      <td>785.655883</td>\n",
       "      <td>38463.495879</td>\n",
       "    </tr>\n",
       "  </tbody>\n",
       "</table>\n",
       "</div>"
      ],
      "text/plain": [
       "   default  student      balance        income\n",
       "1    False    False   729.526495  44361.625074\n",
       "2    False     True   817.180407  12106.134700\n",
       "3    False    False  1073.549164  31767.138947\n",
       "4    False    False   529.250605  35704.493935\n",
       "5    False    False   785.655883  38463.495879"
      ]
     },
     "execution_count": 2,
     "metadata": {},
     "output_type": "execute_result"
    }
   ],
   "source": [
    "df = pd.read_csv('../data/Default.csv', index_col=0, true_values=['Yes'], false_values=['No'])\n",
    "print(len(df))\n",
    "df.head()"
   ]
  },
  {
   "cell_type": "markdown",
   "metadata": {},
   "source": [
    "## A. Compute Standard Errors of Coeffecients"
   ]
  },
  {
   "cell_type": "code",
   "execution_count": 42,
   "metadata": {},
   "outputs": [
    {
     "name": "stdout",
     "output_type": "stream",
     "text": [
      "Optimization terminated successfully.\n",
      "         Current function value: 0.078948\n",
      "         Iterations 10\n",
      "                           Logit Regression Results                           \n",
      "==============================================================================\n",
      "Dep. Variable:                      y   No. Observations:                10000\n",
      "Model:                          Logit   Df Residuals:                     9997\n",
      "Method:                           MLE   Df Model:                            2\n",
      "Date:                Wed, 27 Jul 2016   Pseudo R-squ.:                  0.4594\n",
      "Time:                        13:28:17   Log-Likelihood:                -789.48\n",
      "converged:                       True   LL-Null:                       -1460.3\n",
      "                                        LLR p-value:                4.541e-292\n",
      "==============================================================================\n",
      "                 coef    std err          z      P>|z|      [95.0% Conf. Int.]\n",
      "------------------------------------------------------------------------------\n",
      "const        -11.5405      0.435    -26.544      0.000       -12.393   -10.688\n",
      "balance        0.0056      0.000     24.835      0.000         0.005     0.006\n",
      "income      2.081e-05   4.99e-06      4.174      0.000       1.1e-05  3.06e-05\n",
      "==============================================================================\n",
      "\n",
      "Possibly complete quasi-separation: A fraction 0.14 of observations can be\n",
      "perfectly predicted. This might indicate that there is complete\n",
      "quasi-separation. In this case some parameters will not be identified.\n",
      "\n",
      "The Standard Errors from Formula are:\n",
      " const      0.434772\n",
      "balance    0.000227\n",
      "income     0.000005\n",
      "dtype: float64\n"
     ]
    }
   ],
   "source": [
    "# Design matrix and response #\n",
    "##############################\n",
    "predictors = ['balance','income']\n",
    "X = sm.add_constant(df[predictors])\n",
    "y = df.default.values\n",
    "\n",
    "# Build Classifier and Fit #\n",
    "############################\n",
    "model = sm.Logit(y,X)\n",
    "logit = model.fit()\n",
    "print(logit.summary())\n",
    "print('\\nThe Standard Errors from Formula are:\\n', logit.bse)"
   ]
  },
  {
   "cell_type": "markdown",
   "metadata": {},
   "source": [
    "## B. Write Function to Generate Coeffecient Estimates"
   ]
  },
  {
   "cell_type": "code",
   "execution_count": 38,
   "metadata": {},
   "outputs": [
    {
     "name": "stdout",
     "output_type": "stream",
     "text": [
      "[0.0057994903738334703, 2.1728365149007411e-05]\n"
     ]
    }
   ],
   "source": [
    "def default_boot_sample(dataFrame, indices):\n",
    "    \"\"\"\n",
    "    Returns a single bootstrap sample estimate of the coeffecients for a logistic model applied to dataframe using \n",
    "    ['income', 'balance'] predictors and [default] response corresponding to the supplied indices.\n",
    "    \"\"\"\n",
    "    predictors = ['balance', 'income']\n",
    "    response = ['default']\n",
    "    \n",
    "    # Get the design matrix and response variables\n",
    "    X = sm.add_constant(dataFrame[predictors]).loc[indices]\n",
    "    y = dataFrame[response].loc[indices]\n",
    "    \n",
    "    # Create model and fit #suppress model output\n",
    "    results = sm.Logit(y,X).fit(disp=0)\n",
    "    \n",
    "    return [results.params[predictors].balance, results.params[predictors].income]\n",
    "    \n",
    "# test it out\n",
    "np.random.seed(0)\n",
    "indices = np.random.choice(df.index, size=len(df), replace=True)\n",
    "print(default_boot_sample(df, indices))"
   ]
  },
  {
   "cell_type": "markdown",
   "metadata": {},
   "source": [
    "## C-D. Bootstrap Coeffecient Standard Errors and Compare"
   ]
  },
  {
   "cell_type": "code",
   "execution_count": 50,
   "metadata": {},
   "outputs": [
    {
     "name": "stdout",
     "output_type": "stream",
     "text": [
      "[  2.3616e-04   4.7132e-06]\n"
     ]
    }
   ],
   "source": [
    "def se_boot(data, stat_func, num_samples=1000):\n",
    "    \"\"\"\n",
    "    computes the num_samples bootstrapped standard errors from bootstrap samples generated by stat_func applied to\n",
    "    data. \n",
    "    \"\"\"\n",
    "    boot_samples = []\n",
    "    \n",
    "    for sample in range(num_samples):\n",
    "        # choose a sample of the data\n",
    "        indices = np.random.choice(data.index, size=len(data), replace=True)\n",
    "        # compute the coeffecients\n",
    "        boot_samples.append(stat_func(data, indices))\n",
    "    \n",
    "    # compute the se estimate    \n",
    "    se_estimate = scipy.std(boot_samples, axis=0)\n",
    "    \n",
    "    return se_estimate\n",
    "\n",
    "np.random.seed(0)\n",
    "print(se_boot(df,default_boot_sample, num_samples=1000))"
   ]
  },
  {
   "cell_type": "markdown",
   "metadata": {},
   "source": [
    "These standard errors are very close to the values estimated in the model using formula 3.8 from the text."
   ]
  }
 ],
 "metadata": {
  "kernelspec": {
   "display_name": "Python 3",
   "language": "python",
   "name": "python3"
  },
  "language_info": {
   "codemirror_mode": {
    "name": "ipython",
    "version": 3
   },
   "file_extension": ".py",
   "mimetype": "text/x-python",
   "name": "python",
   "nbconvert_exporter": "python",
   "pygments_lexer": "ipython3",
   "version": "3.6.5"
  }
 },
 "nbformat": 4,
 "nbformat_minor": 1
}
