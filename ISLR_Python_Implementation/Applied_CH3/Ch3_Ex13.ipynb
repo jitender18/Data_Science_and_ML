{
 "cells": [
  {
   "cell_type": "markdown",
   "metadata": {},
   "source": [
    "# ISLR- Python: Ch3 -- Applied Question 13"
   ]
  },
  {
   "cell_type": "markdown",
   "metadata": {},
   "source": [
    "- [Generate Simulated Data and Fit Linear Model](#Generate-Simulated-Data-and Fit Linear Model)\n",
    "- [Fit Quadratic Model to Simulated Data](#Fit-Quadratic-Model-to-Simulated-Data)\n",
    "- [Examine Error Term Variance on Confidence Interval](#Examine-Error-Term-Variance-on-Confidence-Interval)"
   ]
  },
  {
   "cell_type": "code",
   "execution_count": 1,
   "metadata": {
    "collapsed": true
   },
   "outputs": [],
   "source": [
    "# perform standard imports\n",
    "import numpy as np\n",
    "import statsmodels.api as sm\n",
    "\n",
    "from matplotlib import pyplot as plt\n",
    "\n",
    "%matplotlib inline\n",
    "plt.style.use('ggplot') # emulate pretty r-style plots"
   ]
  },
  {
   "cell_type": "markdown",
   "metadata": {},
   "source": [
    "## Generate Simulated Data and Fit Linear Model"
   ]
  },
  {
   "cell_type": "code",
   "execution_count": 49,
   "metadata": {},
   "outputs": [
    {
     "name": "stdout",
     "output_type": "stream",
     "text": [
      "y has 100 elements and the population regression line parameters are [beta0,beta1] = [-1,0.5]\n"
     ]
    },
    {
     "data": {
      "image/png": "[encoded data removed]",
      "text/plain": [
       "<matplotlib.figure.Figure at 0x7f57d41563c8>"
      ]
     },
     "metadata": {},
     "output_type": "display_data"
    },
    {
     "name": "stdout",
     "output_type": "stream",
     "text": [
      "                            OLS Regression Results                            \n",
      "==============================================================================\n",
      "Dep. Variable:                      y   R-squared:                       0.811\n",
      "Model:                            OLS   Adj. R-squared:                  0.809\n",
      "Method:                 Least Squares   F-statistic:                     421.1\n",
      "Date:                Tue, 28 Jun 2016   Prob (F-statistic):           2.96e-37\n",
      "Time:                        13:04:17   Log-Likelihood:                -6.0443\n",
      "No. Observations:                 100   AIC:                             16.09\n",
      "Df Residuals:                      98   BIC:                             21.30\n",
      "Df Model:                           1                                         \n",
      "Covariance Type:            nonrobust                                         \n",
      "==============================================================================\n",
      "                 coef    std err          t      P>|t|      [95.0% Conf. Int.]\n",
      "------------------------------------------------------------------------------\n",
      "const         -0.9812      0.026    -37.722      0.000        -1.033    -0.930\n",
      "x1             0.5287      0.026     20.521      0.000         0.478     0.580\n",
      "==============================================================================\n",
      "Omnibus:                        5.184   Durbin-Watson:                   1.995\n",
      "Prob(Omnibus):                  0.075   Jarque-Bera (JB):                3.000\n",
      "Skew:                           0.210   Prob(JB):                        0.223\n",
      "Kurtosis:                       2.262   Cond. No.                         1.06\n",
      "==============================================================================\n",
      "\n",
      "Warnings:\n",
      "[1] Standard Errors assume that the covariance matrix of the errors is correctly specified.\n",
      "The RSE is  0.26099184505\n"
     ]
    }
   ],
   "source": [
    "#(a) # create a random sample vector from N(0,1) distribution\n",
    "np.random.seed(0)\n",
    "x = np.random.randn(100)\n",
    "\n",
    "#(b) create a noise term eps of samples drawn from N(0,0.25)\n",
    "eps = 0.25*np.random.randn(100)\n",
    "\n",
    "#(c) create a response variable y and print some info about the response\n",
    "y = -1 + 0.5*x + eps\n",
    "print(\"y has\",len(y),'elements and the population regression line parameters are [beta0,beta1] = [-1,0.5]')\n",
    "\n",
    "#(d) plot the simulated data\n",
    "fix, ax = plt.subplots(figsize=(8,6));\n",
    "ax.scatter(x,y, facecolors = 'none', edgecolors = 'b', label='data');\n",
    "\n",
    "#(e) create a model and fit and comment about the fit\n",
    "X = sm.add_constant(x)\n",
    "model = sm.OLS(y,X)\n",
    "est = model.fit()\n",
    "\n",
    "#(f) plot the estimate and population regression lines\n",
    "ax.plot(x, est.fittedvalues, 'g', label='OLS');\n",
    "ax.plot(x, -1+0.5*x, 'r', label='True')\n",
    "ax.legend(loc='best');\n",
    "plt.show()\n",
    "\n",
    "# print summary\n",
    "print(est.summary())\n",
    "print(\"The RSE is \", (est.ssr/(len(x)-X.shape[1]-1))**0.5)"
   ]
  },
  {
   "cell_type": "markdown",
   "metadata": {},
   "source": [
    "#### The true $\\left[\\beta_0,\\beta_1\\right]$ was $[-1,0.5]$. Our model estimate $\\left[\\hat{\\beta_0},\\hat{\\beta_1}\\right]$ is $\\left[-0.981,0.529\\right]$. The standard error is low relative to the coeffecient and thus the confidence intervals are small so the coeffecient estimates are good."
   ]
  },
  {
   "cell_type": "markdown",
   "metadata": {},
   "source": [
    "## Fit Quadratic Model to Simulated Data"
   ]
  },
  {
   "cell_type": "code",
   "execution_count": 50,
   "metadata": {},
   "outputs": [
    {
     "name": "stdout",
     "output_type": "stream",
     "text": [
      "                            OLS Regression Results                            \n",
      "==============================================================================\n",
      "Dep. Variable:                      y   R-squared:                       0.813\n",
      "Model:                            OLS   Adj. R-squared:                  0.809\n",
      "Method:                 Least Squares   F-statistic:                     210.2\n",
      "Date:                Tue, 28 Jun 2016   Prob (F-statistic):           5.44e-36\n",
      "Time:                        13:05:33   Log-Likelihood:                -5.6904\n",
      "No. Observations:                 100   AIC:                             17.38\n",
      "Df Residuals:                      97   BIC:                             25.20\n",
      "Df Model:                           2                                         \n",
      "Covariance Type:            nonrobust                                         \n",
      "==============================================================================\n",
      "                 coef    std err          t      P>|t|      [95.0% Conf. Int.]\n",
      "------------------------------------------------------------------------------\n",
      "const         -0.9643      0.033    -29.173      0.000        -1.030    -0.899\n",
      "x1             0.5308      0.026     20.473      0.000         0.479     0.582\n",
      "x2            -0.0167      0.020     -0.830      0.409        -0.057     0.023\n",
      "==============================================================================\n",
      "Omnibus:                        7.876   Durbin-Watson:                   2.003\n",
      "Prob(Omnibus):                  0.019   Jarque-Bera (JB):                3.580\n",
      "Skew:                           0.188   Prob(JB):                        0.167\n",
      "Kurtosis:                       2.152   Cond. No.                         2.47\n",
      "==============================================================================\n",
      "\n",
      "Warnings:\n",
      "[1] Standard Errors assume that the covariance matrix of the errors is correctly specified.\n",
      "The RSE is  0.261420868725\n"
     ]
    }
   ],
   "source": [
    "# (g) fit polynomial regression using x^2 \n",
    "\n",
    "# create new design matrix with x^2 column\n",
    "x_squared = x**2\n",
    "X = np.concatenate((X,x_squared.reshape(len(x),1)),axis=1)\n",
    "\n",
    "quadratic_model = sm.OLS(y,X)\n",
    "quadratic_est = quadratic_model.fit()\n",
    "print(quadratic_est.summary())\n",
    "print(\"The RSE is \", (quadratic_est.ssr/(len(x)-X.shape[1]-1))**0.5)"
   ]
  },
  {
   "cell_type": "markdown",
   "metadata": {},
   "source": [
    "#### Notice that the R-squared improved slightly (it always will) but the RSE increased. The RSE accounts for the added degrees of freedom. In the quadratic model we have added an extra degree of freedom and this causes an increase in the residual error even though the RSS has decreased. Also note the p-value indicates that the coeffecient of the squared term is not significant."
   ]
  },
  {
   "cell_type": "markdown",
   "metadata": {},
   "source": [
    "## Examine Error Term Variance on Confidence Interval"
   ]
  },
  {
   "cell_type": "code",
   "execution_count": 52,
   "metadata": {},
   "outputs": [
    {
     "name": "stdout",
     "output_type": "stream",
     "text": [
      "With Var(epsilon) = 0.1, the confidence interval for beta is [[-1.01313217 -0.97183721]\n",
      " [ 0.49101981  0.53191987]]\n",
      "With Var(epsilon) = 0.5, the confidence interval for beta is [[-1.12707658 -0.93645563]\n",
      " [ 0.44154891  0.63034698]]\n"
     ]
    }
   ],
   "source": [
    "# make a model with lower variance in the error term\n",
    "\n",
    "np.random.seed(0)\n",
    "x = np.random.randn(100)\n",
    "\n",
    "# create a noise term eps of samples drawn from N(0,0.1)\n",
    "eps_low = 0.1*np.random.randn(100)\n",
    "\n",
    "# create a response variable y\n",
    "y_low = -1 + 0.5*x + eps_low\n",
    "\n",
    "# Construct linear estimate for low variance error model\n",
    "X = sm.add_constant(x)\n",
    "model_low = sm.OLS(y_low,X)\n",
    "est_low = model_low.fit()\n",
    "print('With Var(epsilon) = 0.1, the confidence interval for beta is', est_low.conf_int())\n",
    "\n",
    "# create a noise term eps of samples drawn from N(0,0.1)\n",
    "eps_high = 0.5*np.random.randn(100)\n",
    "# create a response variable y\n",
    "y_high = -1 + 0.5*x + eps_high\n",
    "model_high = sm.OLS(y_high,X)\n",
    "est_high = model_high.fit()\n",
    "est_high.conf_int()\n",
    "print('With Var(epsilon) = 0.5, the confidence interval for beta is', est_high.conf_int())"
   ]
  },
  {
   "cell_type": "markdown",
   "metadata": {},
   "source": [
    "### In the low error term variance model we have a very narrow confidence interval. In the original model we had wider confidence intervals. In the highest variance model we have the widest confidence intervals. Recall the confidence interval is: $\\beta \\pm t_{\\alpha/2,n-2} \\frac{SE}{\\sqrt{n}}$ As SE increases (due to increased var(epsilon) the confidence interval widens."
   ]
  },
  {
   "cell_type": "code",
   "execution_count": null,
   "metadata": {
    "collapsed": true
   },
   "outputs": [],
   "source": []
  }
 ],
 "metadata": {
  "kernelspec": {
   "display_name": "Python 3",
   "language": "python",
   "name": "python3"
  },
  "language_info": {
   "codemirror_mode": {
    "name": "ipython",
    "version": 3
   },
   "file_extension": ".py",
   "mimetype": "text/x-python",
   "name": "python",
   "nbconvert_exporter": "python",
   "pygments_lexer": "ipython3",
   "version": "3.6.5"
  }
 },
 "nbformat": 4,
 "nbformat_minor": 1
}
